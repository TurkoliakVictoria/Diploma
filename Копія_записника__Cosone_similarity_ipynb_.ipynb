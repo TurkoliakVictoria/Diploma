{
  "nbformat": 4,
  "nbformat_minor": 0,
  "metadata": {
    "accelerator": "GPU",
    "colab": {
      "name": "Копія записника \"Cosone similarity.ipynb\"",
      "provenance": []
    },
    "kernelspec": {
      "display_name": "Python 3",
      "name": "python3"
    },
    "language_info": {
      "name": "python"
    },
    "widgets": {
      "application/vnd.jupyter.widget-state+json": {
        "7a4e11876eca401da2fa34571b9b2475": {
          "model_module": "@jupyter-widgets/controls",
          "model_name": "HBoxModel",
          "state": {
            "_view_name": "HBoxView",
            "_dom_classes": [],
            "_model_name": "HBoxModel",
            "_view_module": "@jupyter-widgets/controls",
            "_model_module_version": "1.5.0",
            "_view_count": null,
            "_view_module_version": "1.5.0",
            "box_style": "",
            "layout": "IPY_MODEL_27f9758fea0349bc98838869251f632d",
            "_model_module": "@jupyter-widgets/controls",
            "children": [
              "IPY_MODEL_1eb984787a6b4eb8b021ccbfcf7cdcdf",
              "IPY_MODEL_6b6b6958f2584981bbee9204e404c48f"
            ]
          }
        },
        "27f9758fea0349bc98838869251f632d": {
          "model_module": "@jupyter-widgets/base",
          "model_name": "LayoutModel",
          "state": {
            "_view_name": "LayoutView",
            "grid_template_rows": null,
            "right": null,
            "justify_content": null,
            "_view_module": "@jupyter-widgets/base",
            "overflow": null,
            "_model_module_version": "1.2.0",
            "_view_count": null,
            "flex_flow": null,
            "width": null,
            "min_width": null,
            "border": null,
            "align_items": null,
            "bottom": null,
            "_model_module": "@jupyter-widgets/base",
            "top": null,
            "grid_column": null,
            "overflow_y": null,
            "overflow_x": null,
            "grid_auto_flow": null,
            "grid_area": null,
            "grid_template_columns": null,
            "flex": null,
            "_model_name": "LayoutModel",
            "justify_items": null,
            "grid_row": null,
            "max_height": null,
            "align_content": null,
            "visibility": null,
            "align_self": null,
            "height": null,
            "min_height": null,
            "padding": null,
            "grid_auto_rows": null,
            "grid_gap": null,
            "max_width": null,
            "order": null,
            "_view_module_version": "1.2.0",
            "grid_template_areas": null,
            "object_position": null,
            "object_fit": null,
            "grid_auto_columns": null,
            "margin": null,
            "display": null,
            "left": null
          }
        },
        "1eb984787a6b4eb8b021ccbfcf7cdcdf": {
          "model_module": "@jupyter-widgets/controls",
          "model_name": "FloatProgressModel",
          "state": {
            "_view_name": "ProgressView",
            "style": "IPY_MODEL_b2a62b09def243b3989f207a7fe3e9a3",
            "_dom_classes": [],
            "description": "100%",
            "_model_name": "FloatProgressModel",
            "bar_style": "success",
            "max": 1243516997,
            "_view_module": "@jupyter-widgets/controls",
            "_model_module_version": "1.5.0",
            "value": 1243516997,
            "_view_count": null,
            "_view_module_version": "1.5.0",
            "orientation": "horizontal",
            "min": 0,
            "description_tooltip": null,
            "_model_module": "@jupyter-widgets/controls",
            "layout": "IPY_MODEL_10f7cb21e35143c6b3217d2b855e335b"
          }
        },
        "6b6b6958f2584981bbee9204e404c48f": {
          "model_module": "@jupyter-widgets/controls",
          "model_name": "HTMLModel",
          "state": {
            "_view_name": "HTMLView",
            "style": "IPY_MODEL_cec6dda454ff4c69af0fa38bb9497b4d",
            "_dom_classes": [],
            "description": "",
            "_model_name": "HTMLModel",
            "placeholder": "​",
            "_view_module": "@jupyter-widgets/controls",
            "_model_module_version": "1.5.0",
            "value": " 1.24G/1.24G [10:24&lt;00:00, 1.99MB/s]",
            "_view_count": null,
            "_view_module_version": "1.5.0",
            "description_tooltip": null,
            "_model_module": "@jupyter-widgets/controls",
            "layout": "IPY_MODEL_573b9d1e2ed94620923119406e4e53fc"
          }
        },
        "b2a62b09def243b3989f207a7fe3e9a3": {
          "model_module": "@jupyter-widgets/controls",
          "model_name": "ProgressStyleModel",
          "state": {
            "_view_name": "StyleView",
            "_model_name": "ProgressStyleModel",
            "description_width": "initial",
            "_view_module": "@jupyter-widgets/base",
            "_model_module_version": "1.5.0",
            "_view_count": null,
            "_view_module_version": "1.2.0",
            "bar_color": null,
            "_model_module": "@jupyter-widgets/controls"
          }
        },
        "10f7cb21e35143c6b3217d2b855e335b": {
          "model_module": "@jupyter-widgets/base",
          "model_name": "LayoutModel",
          "state": {
            "_view_name": "LayoutView",
            "grid_template_rows": null,
            "right": null,
            "justify_content": null,
            "_view_module": "@jupyter-widgets/base",
            "overflow": null,
            "_model_module_version": "1.2.0",
            "_view_count": null,
            "flex_flow": null,
            "width": null,
            "min_width": null,
            "border": null,
            "align_items": null,
            "bottom": null,
            "_model_module": "@jupyter-widgets/base",
            "top": null,
            "grid_column": null,
            "overflow_y": null,
            "overflow_x": null,
            "grid_auto_flow": null,
            "grid_area": null,
            "grid_template_columns": null,
            "flex": null,
            "_model_name": "LayoutModel",
            "justify_items": null,
            "grid_row": null,
            "max_height": null,
            "align_content": null,
            "visibility": null,
            "align_self": null,
            "height": null,
            "min_height": null,
            "padding": null,
            "grid_auto_rows": null,
            "grid_gap": null,
            "max_width": null,
            "order": null,
            "_view_module_version": "1.2.0",
            "grid_template_areas": null,
            "object_position": null,
            "object_fit": null,
            "grid_auto_columns": null,
            "margin": null,
            "display": null,
            "left": null
          }
        },
        "cec6dda454ff4c69af0fa38bb9497b4d": {
          "model_module": "@jupyter-widgets/controls",
          "model_name": "DescriptionStyleModel",
          "state": {
            "_view_name": "StyleView",
            "_model_name": "DescriptionStyleModel",
            "description_width": "",
            "_view_module": "@jupyter-widgets/base",
            "_model_module_version": "1.5.0",
            "_view_count": null,
            "_view_module_version": "1.2.0",
            "_model_module": "@jupyter-widgets/controls"
          }
        },
        "573b9d1e2ed94620923119406e4e53fc": {
          "model_module": "@jupyter-widgets/base",
          "model_name": "LayoutModel",
          "state": {
            "_view_name": "LayoutView",
            "grid_template_rows": null,
            "right": null,
            "justify_content": null,
            "_view_module": "@jupyter-widgets/base",
            "overflow": null,
            "_model_module_version": "1.2.0",
            "_view_count": null,
            "flex_flow": null,
            "width": null,
            "min_width": null,
            "border": null,
            "align_items": null,
            "bottom": null,
            "_model_module": "@jupyter-widgets/base",
            "top": null,
            "grid_column": null,
            "overflow_y": null,
            "overflow_x": null,
            "grid_auto_flow": null,
            "grid_area": null,
            "grid_template_columns": null,
            "flex": null,
            "_model_name": "LayoutModel",
            "justify_items": null,
            "grid_row": null,
            "max_height": null,
            "align_content": null,
            "visibility": null,
            "align_self": null,
            "height": null,
            "min_height": null,
            "padding": null,
            "grid_auto_rows": null,
            "grid_gap": null,
            "max_width": null,
            "order": null,
            "_view_module_version": "1.2.0",
            "grid_template_areas": null,
            "object_position": null,
            "object_fit": null,
            "grid_auto_columns": null,
            "margin": null,
            "display": null,
            "left": null
          }
        }
      }
    }
  },
  "cells": [
    {
      "cell_type": "code",
      "metadata": {
        "colab": {
          "base_uri": "https://localhost:8080/"
        },
        "id": "EjxBUhexazGm",
        "collapsed": true,
        "outputId": "c341b97d-5284-414f-d87c-3f23b0a5ac46"
      },
      "source": [
        "pip install sentence-transformers"
      ],
      "execution_count": null,
      "outputs": [
        {
          "output_type": "stream",
          "text": [
            "Collecting sentence-transformers\n",
            "\u001b[?25l  Downloading https://files.pythonhosted.org/packages/cc/75/df441011cd1726822b70fbff50042adb4860e9327b99b346154ead704c44/sentence-transformers-1.2.0.tar.gz (81kB)\n",
            "\u001b[K     |████████████████████████████████| 81kB 10.0MB/s \n",
            "\u001b[?25hCollecting transformers<5.0.0,>=3.1.0\n",
            "\u001b[?25l  Downloading https://files.pythonhosted.org/packages/d5/43/cfe4ee779bbd6a678ac6a97c5a5cdeb03c35f9eaebbb9720b036680f9a2d/transformers-4.6.1-py3-none-any.whl (2.2MB)\n",
            "\u001b[K     |████████████████████████████████| 2.3MB 37.9MB/s \n",
            "\u001b[?25hRequirement already satisfied: tqdm in /usr/local/lib/python3.7/dist-packages (from sentence-transformers) (4.41.1)\n",
            "Requirement already satisfied: torch>=1.6.0 in /usr/local/lib/python3.7/dist-packages (from sentence-transformers) (1.8.1+cu101)\n",
            "Requirement already satisfied: torchvision in /usr/local/lib/python3.7/dist-packages (from sentence-transformers) (0.9.1+cu101)\n",
            "Requirement already satisfied: numpy in /usr/local/lib/python3.7/dist-packages (from sentence-transformers) (1.19.5)\n",
            "Requirement already satisfied: scikit-learn in /usr/local/lib/python3.7/dist-packages (from sentence-transformers) (0.22.2.post1)\n",
            "Requirement already satisfied: scipy in /usr/local/lib/python3.7/dist-packages (from sentence-transformers) (1.4.1)\n",
            "Requirement already satisfied: nltk in /usr/local/lib/python3.7/dist-packages (from sentence-transformers) (3.2.5)\n",
            "Collecting sentencepiece\n",
            "\u001b[?25l  Downloading https://files.pythonhosted.org/packages/f5/99/e0808cb947ba10f575839c43e8fafc9cc44e4a7a2c8f79c60db48220a577/sentencepiece-0.1.95-cp37-cp37m-manylinux2014_x86_64.whl (1.2MB)\n",
            "\u001b[K     |████████████████████████████████| 1.2MB 45.6MB/s \n",
            "\u001b[?25hRequirement already satisfied: packaging in /usr/local/lib/python3.7/dist-packages (from transformers<5.0.0,>=3.1.0->sentence-transformers) (20.9)\n",
            "Requirement already satisfied: regex!=2019.12.17 in /usr/local/lib/python3.7/dist-packages (from transformers<5.0.0,>=3.1.0->sentence-transformers) (2019.12.20)\n",
            "Collecting sacremoses\n",
            "\u001b[?25l  Downloading https://files.pythonhosted.org/packages/75/ee/67241dc87f266093c533a2d4d3d69438e57d7a90abb216fa076e7d475d4a/sacremoses-0.0.45-py3-none-any.whl (895kB)\n",
            "\u001b[K     |████████████████████████████████| 901kB 54.1MB/s \n",
            "\u001b[?25hRequirement already satisfied: requests in /usr/local/lib/python3.7/dist-packages (from transformers<5.0.0,>=3.1.0->sentence-transformers) (2.23.0)\n",
            "Collecting tokenizers<0.11,>=0.10.1\n",
            "\u001b[?25l  Downloading https://files.pythonhosted.org/packages/d4/e2/df3543e8ffdab68f5acc73f613de9c2b155ac47f162e725dcac87c521c11/tokenizers-0.10.3-cp37-cp37m-manylinux_2_5_x86_64.manylinux1_x86_64.manylinux_2_12_x86_64.manylinux2010_x86_64.whl (3.3MB)\n",
            "\u001b[K     |████████████████████████████████| 3.3MB 51.8MB/s \n",
            "\u001b[?25hRequirement already satisfied: importlib-metadata; python_version < \"3.8\" in /usr/local/lib/python3.7/dist-packages (from transformers<5.0.0,>=3.1.0->sentence-transformers) (4.0.1)\n",
            "Requirement already satisfied: filelock in /usr/local/lib/python3.7/dist-packages (from transformers<5.0.0,>=3.1.0->sentence-transformers) (3.0.12)\n",
            "Collecting huggingface-hub==0.0.8\n",
            "  Downloading https://files.pythonhosted.org/packages/a1/88/7b1e45720ecf59c6c6737ff332f41c955963090a18e72acbcbeac6b25e86/huggingface_hub-0.0.8-py3-none-any.whl\n",
            "Requirement already satisfied: typing-extensions in /usr/local/lib/python3.7/dist-packages (from torch>=1.6.0->sentence-transformers) (3.7.4.3)\n",
            "Requirement already satisfied: pillow>=4.1.1 in /usr/local/lib/python3.7/dist-packages (from torchvision->sentence-transformers) (7.1.2)\n",
            "Requirement already satisfied: joblib>=0.11 in /usr/local/lib/python3.7/dist-packages (from scikit-learn->sentence-transformers) (1.0.1)\n",
            "Requirement already satisfied: six in /usr/local/lib/python3.7/dist-packages (from nltk->sentence-transformers) (1.15.0)\n",
            "Requirement already satisfied: pyparsing>=2.0.2 in /usr/local/lib/python3.7/dist-packages (from packaging->transformers<5.0.0,>=3.1.0->sentence-transformers) (2.4.7)\n",
            "Requirement already satisfied: click in /usr/local/lib/python3.7/dist-packages (from sacremoses->transformers<5.0.0,>=3.1.0->sentence-transformers) (7.1.2)\n",
            "Requirement already satisfied: chardet<4,>=3.0.2 in /usr/local/lib/python3.7/dist-packages (from requests->transformers<5.0.0,>=3.1.0->sentence-transformers) (3.0.4)\n",
            "Requirement already satisfied: idna<3,>=2.5 in /usr/local/lib/python3.7/dist-packages (from requests->transformers<5.0.0,>=3.1.0->sentence-transformers) (2.10)\n",
            "Requirement already satisfied: certifi>=2017.4.17 in /usr/local/lib/python3.7/dist-packages (from requests->transformers<5.0.0,>=3.1.0->sentence-transformers) (2020.12.5)\n",
            "Requirement already satisfied: urllib3!=1.25.0,!=1.25.1,<1.26,>=1.21.1 in /usr/local/lib/python3.7/dist-packages (from requests->transformers<5.0.0,>=3.1.0->sentence-transformers) (1.24.3)\n",
            "Requirement already satisfied: zipp>=0.5 in /usr/local/lib/python3.7/dist-packages (from importlib-metadata; python_version < \"3.8\"->transformers<5.0.0,>=3.1.0->sentence-transformers) (3.4.1)\n",
            "Building wheels for collected packages: sentence-transformers\n",
            "  Building wheel for sentence-transformers (setup.py) ... \u001b[?25l\u001b[?25hdone\n",
            "  Created wheel for sentence-transformers: filename=sentence_transformers-1.2.0-cp37-none-any.whl size=123339 sha256=2ae3152e8f9704947c228100b054887acf5942f40d9b5d9f2ce928b94fad956c\n",
            "  Stored in directory: /root/.cache/pip/wheels/0f/06/f7/faaa96fdda87462b4fd5c47b343340e9d5531ef70d0eef8242\n",
            "Successfully built sentence-transformers\n",
            "Installing collected packages: sacremoses, tokenizers, huggingface-hub, transformers, sentencepiece, sentence-transformers\n",
            "Successfully installed huggingface-hub-0.0.8 sacremoses-0.0.45 sentence-transformers-1.2.0 sentencepiece-0.1.95 tokenizers-0.10.3 transformers-4.6.1\n"
          ],
          "name": "stdout"
        }
      ]
    },
    {
      "cell_type": "code",
      "metadata": {
        "id": "N2ucUEY9i1n4",
        "colab": {
          "base_uri": "https://localhost:8080/",
          "height": 137,
          "referenced_widgets": [
            "7a4e11876eca401da2fa34571b9b2475",
            "27f9758fea0349bc98838869251f632d",
            "1eb984787a6b4eb8b021ccbfcf7cdcdf",
            "6b6b6958f2584981bbee9204e404c48f",
            "b2a62b09def243b3989f207a7fe3e9a3",
            "10f7cb21e35143c6b3217d2b855e335b",
            "cec6dda454ff4c69af0fa38bb9497b4d",
            "573b9d1e2ed94620923119406e4e53fc"
          ]
        },
        "outputId": "1edc81ac-2c74-4ec1-ef42-c607ac92085c"
      },
      "source": [
        "import pandas as pd\n",
        "import os \n",
        "import ast\n",
        "import sentence_transformers \n",
        "import matplotlib.pyplot as plt \n",
        "import pickle\n",
        "from sentence_transformers import SentenceTransformer\n",
        "from sklearn.metrics.pairwise import cosine_similarity\n",
        "from scipy import sparse\n",
        "model = SentenceTransformer('bert-large-nli-stsb-mean-tokens') "
      ],
      "execution_count": null,
      "outputs": [
        {
          "output_type": "display_data",
          "data": {
            "application/vnd.jupyter.widget-view+json": {
              "model_id": "7a4e11876eca401da2fa34571b9b2475",
              "version_minor": 0,
              "version_major": 2
            },
            "text/plain": [
              "HBox(children=(FloatProgress(value=0.0, max=1243516997.0), HTML(value='')))"
            ]
          },
          "metadata": {
            "tags": []
          }
        },
        {
          "output_type": "stream",
          "text": [
            "\n"
          ],
          "name": "stdout"
        },
        {
          "output_type": "stream",
          "text": [
            "Some weights of the model checkpoint at /root/.cache/torch/sentence_transformers/sbert.net_models_bert-large-nli-stsb-mean-tokens/0_BERT were not used when initializing BertModel: ['classifier.weight', 'classifier.bias']\n",
            "- This IS expected if you are initializing BertModel from the checkpoint of a model trained on another task or with another architecture (e.g. initializing a BertForSequenceClassification model from a BertForPreTraining model).\n",
            "- This IS NOT expected if you are initializing BertModel from the checkpoint of a model that you expect to be exactly identical (initializing a BertForSequenceClassification model from a BertForSequenceClassification model).\n"
          ],
          "name": "stderr"
        }
      ]
    },
    {
      "cell_type": "code",
      "metadata": {
        "id": "lGPJVU5ni1qL"
      },
      "source": [
        "interactions = pd.read_csv('/content/drive/MyDrive/archive/RAW_interactions.csv')\n"
      ],
      "execution_count": null,
      "outputs": []
    },
    {
      "cell_type": "code",
      "metadata": {
        "colab": {
          "base_uri": "https://localhost:8080/",
          "height": 235
        },
        "id": "8hYYv9FbW2Nz",
        "outputId": "7b7302ad-6fd1-46ef-c4d2-51311b654854"
      },
      "source": [
        "grouping= interactions.groupby(['recipe_id']).agg({'rating' : ['mean'],'user_id' : ['nunique']}).reset_index()\n",
        "grouping.head(5)"
      ],
      "execution_count": null,
      "outputs": [
        {
          "output_type": "execute_result",
          "data": {
            "text/html": [
              "<div>\n",
              "<style scoped>\n",
              "    .dataframe tbody tr th:only-of-type {\n",
              "        vertical-align: middle;\n",
              "    }\n",
              "\n",
              "    .dataframe tbody tr th {\n",
              "        vertical-align: top;\n",
              "    }\n",
              "\n",
              "    .dataframe thead tr th {\n",
              "        text-align: left;\n",
              "    }\n",
              "</style>\n",
              "<table border=\"1\" class=\"dataframe\">\n",
              "  <thead>\n",
              "    <tr>\n",
              "      <th></th>\n",
              "      <th>recipe_id</th>\n",
              "      <th>rating</th>\n",
              "      <th>user_id</th>\n",
              "    </tr>\n",
              "    <tr>\n",
              "      <th></th>\n",
              "      <th></th>\n",
              "      <th>mean</th>\n",
              "      <th>nunique</th>\n",
              "    </tr>\n",
              "  </thead>\n",
              "  <tbody>\n",
              "    <tr>\n",
              "      <th>0</th>\n",
              "      <td>38</td>\n",
              "      <td>4.250000</td>\n",
              "      <td>4</td>\n",
              "    </tr>\n",
              "    <tr>\n",
              "      <th>1</th>\n",
              "      <td>39</td>\n",
              "      <td>3.000000</td>\n",
              "      <td>1</td>\n",
              "    </tr>\n",
              "    <tr>\n",
              "      <th>2</th>\n",
              "      <td>40</td>\n",
              "      <td>4.333333</td>\n",
              "      <td>9</td>\n",
              "    </tr>\n",
              "    <tr>\n",
              "      <th>3</th>\n",
              "      <td>41</td>\n",
              "      <td>4.500000</td>\n",
              "      <td>2</td>\n",
              "    </tr>\n",
              "    <tr>\n",
              "      <th>4</th>\n",
              "      <td>43</td>\n",
              "      <td>1.000000</td>\n",
              "      <td>1</td>\n",
              "    </tr>\n",
              "  </tbody>\n",
              "</table>\n",
              "</div>"
            ],
            "text/plain": [
              "  recipe_id    rating user_id\n",
              "                 mean nunique\n",
              "0        38  4.250000       4\n",
              "1        39  3.000000       1\n",
              "2        40  4.333333       9\n",
              "3        41  4.500000       2\n",
              "4        43  1.000000       1"
            ]
          },
          "metadata": {
            "tags": []
          },
          "execution_count": 8
        }
      ]
    },
    {
      "cell_type": "code",
      "metadata": {
        "id": "mYv1-BAki1si"
      },
      "source": [
        "grouping.columns = ['recipe_id', 'rating_mean', 'user_num']\n",
        "grouping.columns = pd.Index([e[0] + \"_\" +e[1] for e in grouping.columns.tolist()])\n"
      ],
      "execution_count": null,
      "outputs": []
    },
    {
      "cell_type": "code",
      "metadata": {
        "id": "AzLj0oAQXICk"
      },
      "source": [
        "rei = grouping[ (grouping['user_id_nunique'] > 5)]"
      ],
      "execution_count": null,
      "outputs": []
    },
    {
      "cell_type": "code",
      "metadata": {
        "id": "_kjtCOqdi1vB"
      },
      "source": [
        "recipes = pd.read_csv('/content/drive/MyDrive/archive/RAW_recipes.csv')\n",
        "filter_recipe = pd.merge(recipes,rei,right_on = ['recipe_id'],left_on = ['id'],how = 'inner')"
      ],
      "execution_count": null,
      "outputs": []
    },
    {
      "cell_type": "code",
      "metadata": {
        "colab": {
          "base_uri": "https://localhost:8080/"
        },
        "id": "FjHonfylXUVu",
        "outputId": "52da1f5d-2e6f-431e-f2dc-07caa4e6eacc"
      },
      "source": [
        "filter_recipe.shape"
      ],
      "execution_count": null,
      "outputs": [
        {
          "output_type": "execute_result",
          "data": {
            "text/plain": [
              "(42884, 15)"
            ]
          },
          "metadata": {
            "tags": []
          },
          "execution_count": 38
        }
      ]
    },
    {
      "cell_type": "code",
      "metadata": {
        "colab": {
          "base_uri": "https://localhost:8080/"
        },
        "id": "08zUp6Tbi13D",
        "outputId": "29ee859d-1a7d-43f9-ad27-53edb7b522a9"
      },
      "source": [
        "encodings_recipe_df = pickle.load(open(\"/content/drive/MyDrive/recipe_embedding.pickle\",'rb'))\n",
        "print (\"Encoding are loaded\")\n",
        "data_encoding = pd.DataFrame(encodings_recipe_df)"
      ],
      "execution_count": null,
      "outputs": [
        {
          "output_type": "stream",
          "text": [
            "Encoding are loaded\n"
          ],
          "name": "stdout"
        }
      ]
    },
    {
      "cell_type": "code",
      "metadata": {
        "id": "N6bV-X0JazJO"
      },
      "source": [
        "\n",
        "encoding_sparse = sparse.csr_matrix(encodings_recipe_df[0:10000])"
      ],
      "execution_count": null,
      "outputs": []
    },
    {
      "cell_type": "code",
      "metadata": {
        "colab": {
          "base_uri": "https://localhost:8080/"
        },
        "id": "y8XEauNXazbP",
        "outputId": "be9219d2-00c1-4237-c798-078da71eae12"
      },
      "source": [
        "#also can output sparse matrices\n",
        "import datetime\n",
        "time = datetime.datetime.now()\n",
        "print (time)\n",
        "similarities_sparse = cosine_similarity(encoding_sparse)\n",
        "# print('pairwise sparse output:\\n {}\\n'.format(similarities_sparse))\n",
        "print (\"Time taken is :\",)\n",
        "print (datetime.datetime.now()-time)"
      ],
      "execution_count": null,
      "outputs": [
        {
          "output_type": "stream",
          "text": [
            "2021-05-27 15:07:39.403938\n",
            "Time taken is :\n",
            "0:03:36.273101\n"
          ],
          "name": "stdout"
        }
      ]
    },
    {
      "cell_type": "code",
      "metadata": {
        "id": "K9qGQuLPjuxa"
      },
      "source": [
        "### Convert the pickle file to datafarme and dump\n",
        "df1 = pd.DataFrame(similarities_sparse)\n",
        "pickle.dump(df1,open('similarities_sparse.pickle','wb'))"
      ],
      "execution_count": null,
      "outputs": []
    },
    {
      "cell_type": "code",
      "metadata": {
        "id": "ry1CxK9gjwAf"
      },
      "source": [
        "data_similarity = df1.unstack().reset_index()\n",
        "data_similarity.columns = ['recipe1','recipe2','cosine_similarity']"
      ],
      "execution_count": null,
      "outputs": []
    },
    {
      "cell_type": "code",
      "metadata": {
        "colab": {
          "base_uri": "https://localhost:8080/"
        },
        "id": "KouWo4Lij0jQ",
        "outputId": "8b1d8a9f-054e-4c08-bd5d-8fcd2750ba1f"
      },
      "source": [
        "data_similarity = data_similarity[data_similarity['cosine_similarity']<0.9999]\n",
        "data_similarity = data_similarity[data_similarity['cosine_similarity']>0.7]\n",
        "print (data_similarity.shape)"
      ],
      "execution_count": null,
      "outputs": [
        {
          "output_type": "stream",
          "text": [
            "(23306414, 3)\n"
          ],
          "name": "stdout"
        }
      ]
    },
    {
      "cell_type": "code",
      "metadata": {
        "id": "2_tghYRCj5dt"
      },
      "source": [
        "recipe_dict = {}\n",
        "for j,i in enumerate(filter_recipe['name']):\n",
        "    recipe_dict[j] = i\n"
      ],
      "execution_count": null,
      "outputs": []
    },
    {
      "cell_type": "code",
      "metadata": {
        "id": "N8v1g8GYj6jK"
      },
      "source": [
        "data_similarity['recipe1_name'] = data_similarity['recipe1'].map(recipe_dict)\n",
        "data_similarity['recipe2_name'] = data_similarity['recipe2'].map(recipe_dict)"
      ],
      "execution_count": null,
      "outputs": []
    },
    {
      "cell_type": "code",
      "metadata": {
        "id": "yiynI3cXj-iZ"
      },
      "source": [
        "data_similarity['similarity_rank'] = data_similarity.groupby(['recipe1'])['cosine_similarity'].rank(\"dense\", ascending=False)\n",
        "data_similarity = data_similarity[data_similarity['similarity_rank'] <= 4].reset_index()"
      ],
      "execution_count": null,
      "outputs": []
    },
    {
      "cell_type": "code",
      "metadata": {
        "id": "v7B2LlygkCfm",
        "colab": {
          "base_uri": "https://localhost:8080/",
          "height": 419
        },
        "outputId": "9be40d77-1a3c-4526-d3e0-7c8532a2fe0f"
      },
      "source": [
        "data_similarity"
      ],
      "execution_count": null,
      "outputs": [
        {
          "output_type": "execute_result",
          "data": {
            "text/html": [
              "<div>\n",
              "<style scoped>\n",
              "    .dataframe tbody tr th:only-of-type {\n",
              "        vertical-align: middle;\n",
              "    }\n",
              "\n",
              "    .dataframe tbody tr th {\n",
              "        vertical-align: top;\n",
              "    }\n",
              "\n",
              "    .dataframe thead th {\n",
              "        text-align: right;\n",
              "    }\n",
              "</style>\n",
              "<table border=\"1\" class=\"dataframe\">\n",
              "  <thead>\n",
              "    <tr style=\"text-align: right;\">\n",
              "      <th></th>\n",
              "      <th>index</th>\n",
              "      <th>recipe1</th>\n",
              "      <th>recipe2</th>\n",
              "      <th>cosine_similarity</th>\n",
              "      <th>recipe1_name</th>\n",
              "      <th>recipe2_name</th>\n",
              "      <th>similarity_rank</th>\n",
              "    </tr>\n",
              "  </thead>\n",
              "  <tbody>\n",
              "    <tr>\n",
              "      <th>0</th>\n",
              "      <td>1087</td>\n",
              "      <td>0</td>\n",
              "      <td>1087</td>\n",
              "      <td>0.824837</td>\n",
              "      <td>better then bush s  baked beans</td>\n",
              "      <td>angel s rich and buttery pan rolls  bread machine</td>\n",
              "      <td>3.0</td>\n",
              "    </tr>\n",
              "    <tr>\n",
              "      <th>1</th>\n",
              "      <td>1090</td>\n",
              "      <td>0</td>\n",
              "      <td>1090</td>\n",
              "      <td>0.824706</td>\n",
              "      <td>better then bush s  baked beans</td>\n",
              "      <td>angelic shrimp and lobster</td>\n",
              "      <td>4.0</td>\n",
              "    </tr>\n",
              "    <tr>\n",
              "      <th>2</th>\n",
              "      <td>5816</td>\n",
              "      <td>0</td>\n",
              "      <td>5816</td>\n",
              "      <td>0.833334</td>\n",
              "      <td>better then bush s  baked beans</td>\n",
              "      <td>broccoli chicken casserole</td>\n",
              "      <td>2.0</td>\n",
              "    </tr>\n",
              "    <tr>\n",
              "      <th>3</th>\n",
              "      <td>6352</td>\n",
              "      <td>0</td>\n",
              "      <td>6352</td>\n",
              "      <td>0.835143</td>\n",
              "      <td>better then bush s  baked beans</td>\n",
              "      <td>butterscotch  ride</td>\n",
              "      <td>1.0</td>\n",
              "    </tr>\n",
              "    <tr>\n",
              "      <th>4</th>\n",
              "      <td>10392</td>\n",
              "      <td>1</td>\n",
              "      <td>392</td>\n",
              "      <td>0.862677</td>\n",
              "      <td>chicken lickin  good  pork chops</td>\n",
              "      <td>500f eye of round roast</td>\n",
              "      <td>3.0</td>\n",
              "    </tr>\n",
              "    <tr>\n",
              "      <th>...</th>\n",
              "      <td>...</td>\n",
              "      <td>...</td>\n",
              "      <td>...</td>\n",
              "      <td>...</td>\n",
              "      <td>...</td>\n",
              "      <td>...</td>\n",
              "      <td>...</td>\n",
              "    </tr>\n",
              "    <tr>\n",
              "      <th>39554</th>\n",
              "      <td>99988315</td>\n",
              "      <td>9998</td>\n",
              "      <td>8315</td>\n",
              "      <td>0.794778</td>\n",
              "      <td>cinnamon nuts</td>\n",
              "      <td>chicken enchilada bake with salsa cream sauce</td>\n",
              "      <td>4.0</td>\n",
              "    </tr>\n",
              "    <tr>\n",
              "      <th>39555</th>\n",
              "      <td>99990398</td>\n",
              "      <td>9999</td>\n",
              "      <td>398</td>\n",
              "      <td>0.895510</td>\n",
              "      <td>cinnamon oatmeal</td>\n",
              "      <td>6 week bran muffins  auntie anne s muffins</td>\n",
              "      <td>2.0</td>\n",
              "    </tr>\n",
              "    <tr>\n",
              "      <th>39556</th>\n",
              "      <td>99993401</td>\n",
              "      <td>9999</td>\n",
              "      <td>3401</td>\n",
              "      <td>0.891251</td>\n",
              "      <td>cinnamon oatmeal</td>\n",
              "      <td>banberry jam</td>\n",
              "      <td>3.0</td>\n",
              "    </tr>\n",
              "    <tr>\n",
              "      <th>39557</th>\n",
              "      <td>99997445</td>\n",
              "      <td>9999</td>\n",
              "      <td>7445</td>\n",
              "      <td>0.887514</td>\n",
              "      <td>cinnamon oatmeal</td>\n",
              "      <td>cheddar potato soup</td>\n",
              "      <td>4.0</td>\n",
              "    </tr>\n",
              "    <tr>\n",
              "      <th>39558</th>\n",
              "      <td>99999856</td>\n",
              "      <td>9999</td>\n",
              "      <td>9856</td>\n",
              "      <td>0.895756</td>\n",
              "      <td>cinnamon oatmeal</td>\n",
              "      <td>cider grilled salmon</td>\n",
              "      <td>1.0</td>\n",
              "    </tr>\n",
              "  </tbody>\n",
              "</table>\n",
              "<p>39559 rows × 7 columns</p>\n",
              "</div>"
            ],
            "text/plain": [
              "          index  ...  similarity_rank\n",
              "0          1087  ...              3.0\n",
              "1          1090  ...              4.0\n",
              "2          5816  ...              2.0\n",
              "3          6352  ...              1.0\n",
              "4         10392  ...              3.0\n",
              "...         ...  ...              ...\n",
              "39554  99988315  ...              4.0\n",
              "39555  99990398  ...              2.0\n",
              "39556  99993401  ...              3.0\n",
              "39557  99997445  ...              4.0\n",
              "39558  99999856  ...              1.0\n",
              "\n",
              "[39559 rows x 7 columns]"
            ]
          },
          "metadata": {
            "tags": []
          },
          "execution_count": 36
        }
      ]
    },
    {
      "cell_type": "code",
      "metadata": {
        "id": "OLtuJmyCkCjj"
      },
      "source": [
        "def find_similar_dishes(recipe):\n",
        "    data =  data_similarity[data_similarity['recipe1_name'] == recipe]\n",
        "    print (\"You should try \")\n",
        "    data.sort_values(inplace = True,by =['similarity_rank']) \n",
        "    for j,i in enumerate(data['recipe2_name']):\n",
        "       print (\" \", i)\n",
        "       "
      ],
      "execution_count": null,
      "outputs": []
    },
    {
      "cell_type": "code",
      "metadata": {
        "colab": {
          "base_uri": "https://localhost:8080/"
        },
        "id": "CB7ha-FZkCnR",
        "outputId": "6bedcbbb-c439-42f8-f9fa-f942568bd745"
      },
      "source": [
        "find_similar_dishes('cinnamon nuts')"
      ],
      "execution_count": null,
      "outputs": [
        {
          "output_type": "stream",
          "text": [
            "You should try \n",
            "  biscuit stuffing pork chops\n",
            "  cafe orange mocha\n",
            "  betty crocker peach pancakes\n",
            "  chicken enchilada bake with salsa cream sauce\n"
          ],
          "name": "stdout"
        },
        {
          "output_type": "stream",
          "text": [
            "/usr/local/lib/python3.7/dist-packages/ipykernel_launcher.py:4: SettingWithCopyWarning: \n",
            "A value is trying to be set on a copy of a slice from a DataFrame\n",
            "\n",
            "See the caveats in the documentation: https://pandas.pydata.org/pandas-docs/stable/user_guide/indexing.html#returning-a-view-versus-a-copy\n",
            "  after removing the cwd from sys.path.\n"
          ],
          "name": "stderr"
        }
      ]
    },
    {
      "cell_type": "code",
      "metadata": {
        "id": "-P6HVT2EY3w6"
      },
      "source": [
        "find_similar_dishes(['cinnamon nuts','birdseed bread'])"
      ],
      "execution_count": null,
      "outputs": []
    },
    {
      "cell_type": "code",
      "metadata": {
        "colab": {
          "base_uri": "https://localhost:8080/",
          "height": 538
        },
        "id": "vK5_w4g_9Vb6",
        "outputId": "5aec75cc-b8d2-407c-fccc-87ec512d1c10"
      },
      "source": [
        "data_similarity"
      ],
      "execution_count": null,
      "outputs": [
        {
          "output_type": "execute_result",
          "data": {
            "text/html": [
              "<div>\n",
              "<style scoped>\n",
              "    .dataframe tbody tr th:only-of-type {\n",
              "        vertical-align: middle;\n",
              "    }\n",
              "\n",
              "    .dataframe tbody tr th {\n",
              "        vertical-align: top;\n",
              "    }\n",
              "\n",
              "    .dataframe thead th {\n",
              "        text-align: right;\n",
              "    }\n",
              "</style>\n",
              "<table border=\"1\" class=\"dataframe\">\n",
              "  <thead>\n",
              "    <tr style=\"text-align: right;\">\n",
              "      <th></th>\n",
              "      <th>index</th>\n",
              "      <th>recipe1</th>\n",
              "      <th>recipe2</th>\n",
              "      <th>cosine_similarity</th>\n",
              "      <th>recipe1_name</th>\n",
              "      <th>recipe2_name</th>\n",
              "      <th>similarity_rank</th>\n",
              "    </tr>\n",
              "  </thead>\n",
              "  <tbody>\n",
              "    <tr>\n",
              "      <th>0</th>\n",
              "      <td>1087</td>\n",
              "      <td>0</td>\n",
              "      <td>1087</td>\n",
              "      <td>0.824837</td>\n",
              "      <td>arriba   baked winter squash mexican style</td>\n",
              "      <td>acorn squash a la kree</td>\n",
              "      <td>3.0</td>\n",
              "    </tr>\n",
              "    <tr>\n",
              "      <th>1</th>\n",
              "      <td>1090</td>\n",
              "      <td>0</td>\n",
              "      <td>1090</td>\n",
              "      <td>0.824706</td>\n",
              "      <td>arriba   baked winter squash mexican style</td>\n",
              "      <td>acorn squash bisque</td>\n",
              "      <td>4.0</td>\n",
              "    </tr>\n",
              "    <tr>\n",
              "      <th>2</th>\n",
              "      <td>1101</td>\n",
              "      <td>0</td>\n",
              "      <td>1101</td>\n",
              "      <td>0.817159</td>\n",
              "      <td>arriba   baked winter squash mexican style</td>\n",
              "      <td>acorn squash with pineapple</td>\n",
              "      <td>5.0</td>\n",
              "    </tr>\n",
              "    <tr>\n",
              "      <th>3</th>\n",
              "      <td>5816</td>\n",
              "      <td>0</td>\n",
              "      <td>5816</td>\n",
              "      <td>0.833334</td>\n",
              "      <td>arriba   baked winter squash mexican style</td>\n",
              "      <td>baked delicata squash with lime butter</td>\n",
              "      <td>2.0</td>\n",
              "    </tr>\n",
              "    <tr>\n",
              "      <th>4</th>\n",
              "      <td>6352</td>\n",
              "      <td>0</td>\n",
              "      <td>6352</td>\n",
              "      <td>0.835143</td>\n",
              "      <td>arriba   baked winter squash mexican style</td>\n",
              "      <td>baked spaghetti squash with jalapeno cream</td>\n",
              "      <td>1.0</td>\n",
              "    </tr>\n",
              "    <tr>\n",
              "      <th>...</th>\n",
              "      <td>...</td>\n",
              "      <td>...</td>\n",
              "      <td>...</td>\n",
              "      <td>...</td>\n",
              "      <td>...</td>\n",
              "      <td>...</td>\n",
              "      <td>...</td>\n",
              "    </tr>\n",
              "    <tr>\n",
              "      <th>49958</th>\n",
              "      <td>99990398</td>\n",
              "      <td>9999</td>\n",
              "      <td>398</td>\n",
              "      <td>0.895510</td>\n",
              "      <td>birdseed bread</td>\n",
              "      <td>100  whole wheat bread  non dense heavy  white...</td>\n",
              "      <td>2.0</td>\n",
              "    </tr>\n",
              "    <tr>\n",
              "      <th>49959</th>\n",
              "      <td>99993401</td>\n",
              "      <td>9999</td>\n",
              "      <td>3401</td>\n",
              "      <td>0.891251</td>\n",
              "      <td>birdseed bread</td>\n",
              "      <td>arabian pita bread</td>\n",
              "      <td>3.0</td>\n",
              "    </tr>\n",
              "    <tr>\n",
              "      <th>49960</th>\n",
              "      <td>99994138</td>\n",
              "      <td>9999</td>\n",
              "      <td>4138</td>\n",
              "      <td>0.885125</td>\n",
              "      <td>birdseed bread</td>\n",
              "      <td>auberge chorizo  goat s cheese and onion pizza...</td>\n",
              "      <td>5.0</td>\n",
              "    </tr>\n",
              "    <tr>\n",
              "      <th>49961</th>\n",
              "      <td>99997445</td>\n",
              "      <td>9999</td>\n",
              "      <td>7445</td>\n",
              "      <td>0.887514</td>\n",
              "      <td>birdseed bread</td>\n",
              "      <td>barbari  a persian bread</td>\n",
              "      <td>4.0</td>\n",
              "    </tr>\n",
              "    <tr>\n",
              "      <th>49962</th>\n",
              "      <td>99999856</td>\n",
              "      <td>9999</td>\n",
              "      <td>9856</td>\n",
              "      <td>0.895756</td>\n",
              "      <td>birdseed bread</td>\n",
              "      <td>bialys</td>\n",
              "      <td>1.0</td>\n",
              "    </tr>\n",
              "  </tbody>\n",
              "</table>\n",
              "<p>49963 rows × 7 columns</p>\n",
              "</div>"
            ],
            "text/plain": [
              "          index  ...  similarity_rank\n",
              "0          1087  ...              3.0\n",
              "1          1090  ...              4.0\n",
              "2          1101  ...              5.0\n",
              "3          5816  ...              2.0\n",
              "4          6352  ...              1.0\n",
              "...         ...  ...              ...\n",
              "49958  99990398  ...              2.0\n",
              "49959  99993401  ...              3.0\n",
              "49960  99994138  ...              5.0\n",
              "49961  99997445  ...              4.0\n",
              "49962  99999856  ...              1.0\n",
              "\n",
              "[49963 rows x 7 columns]"
            ]
          },
          "metadata": {
            "tags": []
          },
          "execution_count": 23
        }
      ]
    }
  ]
}