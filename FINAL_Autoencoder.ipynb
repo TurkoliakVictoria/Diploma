{
  "nbformat": 4,
  "nbformat_minor": 0,
  "metadata": {
    "colab": {
      "name": "FINAL_Autoencoder.ipynb",
      "provenance": [],
      "toc_visible": true
    },
    "kernelspec": {
      "name": "python3",
      "display_name": "Python 3"
    },
    "language_info": {
      "name": "python"
    }
  },
  "cells": [
    {
      "cell_type": "code",
      "metadata": {
        "id": "yepaQIu5Rowx"
      },
      "source": [
        "import pandas as pd\n",
        "import matplotlib.pyplot as plt\n",
        "import keras\n",
        "from keras import layers\n",
        "\n",
        "from keras.callbacks import ModelCheckpoint\n",
        "from sklearn.model_selection import train_test_split\n",
        "from sklearn.metrics import mean_squared_error\n",
        "from sklearn.metrics import mean_absolute_error\n",
        "\n",
        "import pickle"
      ],
      "execution_count": null,
      "outputs": []
    },
    {
      "cell_type": "code",
      "metadata": {
        "id": "ZBcXkPeytTLJ",
        "colab": {
          "base_uri": "https://localhost:8080/"
        },
        "outputId": "4bfeff17-a435-432d-86eb-f47da72be5d7"
      },
      "source": [
        "print(keras.__version__)"
      ],
      "execution_count": null,
      "outputs": [
        {
          "output_type": "stream",
          "text": [
            "2.5.0\n"
          ],
          "name": "stdout"
        }
      ]
    },
    {
      "cell_type": "code",
      "metadata": {
        "colab": {
          "base_uri": "https://localhost:8080/"
        },
        "id": "lhC2KhesRqgc",
        "outputId": "7ba6873f-195a-4935-c97a-79ad44166265"
      },
      "source": [
        "\n",
        "raw_interactions = pd.read_csv('/content/drive/MyDrive/archive/RAW_interactions.csv')\n",
        "raw_recipes = pd.read_csv('/content/drive/MyDrive/archive/RAW_recipes.csv')\n",
        "raw_interactions = raw_interactions.dropna()\n",
        "raw_interactions = raw_interactions[raw_interactions[\"rating\"] !=0]\n",
        "raw_interactions.shape\n",
        "\n",
        "rating_count = (raw_interactions.\n",
        "     groupby(by = ['recipe_id'])['rating'].\n",
        "     count().\n",
        "     reset_index().\n",
        "     rename(columns = {'rating': 'RatingCount_recipe'})\n",
        "     [['recipe_id', 'RatingCount_recipe']]\n",
        "    )\n",
        "rating_count1 = rating_count.query('RatingCount_recipe >= 5')\n",
        "\n",
        "user_rating = pd.merge(rating_count1, raw_interactions, left_on='recipe_id', right_on='recipe_id', how='left')\n",
        "user_count = (user_rating.\n",
        "     groupby(by = ['user_id'])['rating'].\n",
        "     count().\n",
        "     reset_index().\n",
        "     rename(columns = {'rating': 'RatingCount_user'})\n",
        "     [['user_id', 'RatingCount_user']]\n",
        "    )\n",
        "user_count = user_count.query('RatingCount_user >=5')\n",
        "\n",
        "combined = user_rating.merge(user_count, left_on = 'user_id', right_on = 'user_id', how = 'inner')\n",
        "\n",
        "print('unique recipes: ', combined['recipe_id'].nunique())\n",
        "print('Unique users: ', combined['user_id'].nunique())"
      ],
      "execution_count": null,
      "outputs": [
        {
          "output_type": "stream",
          "text": [
            "unique recipes:  50676\n",
            "Unique users:  18042\n"
          ],
          "name": "stdout"
        }
      ]
    },
    {
      "cell_type": "code",
      "metadata": {
        "colab": {
          "base_uri": "https://localhost:8080/",
          "height": 419
        },
        "id": "DaKxmctZ8Nh_",
        "outputId": "efecb56b-914d-42a8-8cc7-431a58d3bc78"
      },
      "source": [
        "rating_count1"
      ],
      "execution_count": null,
      "outputs": [
        {
          "output_type": "execute_result",
          "data": {
            "text/html": [
              "<div>\n",
              "<style scoped>\n",
              "    .dataframe tbody tr th:only-of-type {\n",
              "        vertical-align: middle;\n",
              "    }\n",
              "\n",
              "    .dataframe tbody tr th {\n",
              "        vertical-align: top;\n",
              "    }\n",
              "\n",
              "    .dataframe thead th {\n",
              "        text-align: right;\n",
              "    }\n",
              "</style>\n",
              "<table border=\"1\" class=\"dataframe\">\n",
              "  <thead>\n",
              "    <tr style=\"text-align: right;\">\n",
              "      <th></th>\n",
              "      <th>recipe_id</th>\n",
              "      <th>RatingCount_recipe</th>\n",
              "    </tr>\n",
              "  </thead>\n",
              "  <tbody>\n",
              "    <tr>\n",
              "      <th>2</th>\n",
              "      <td>40</td>\n",
              "      <td>9</td>\n",
              "    </tr>\n",
              "    <tr>\n",
              "      <th>8</th>\n",
              "      <td>49</td>\n",
              "      <td>18</td>\n",
              "    </tr>\n",
              "    <tr>\n",
              "      <th>13</th>\n",
              "      <td>58</td>\n",
              "      <td>7</td>\n",
              "    </tr>\n",
              "    <tr>\n",
              "      <th>15</th>\n",
              "      <td>62</td>\n",
              "      <td>22</td>\n",
              "    </tr>\n",
              "    <tr>\n",
              "      <th>17</th>\n",
              "      <td>66</td>\n",
              "      <td>19</td>\n",
              "    </tr>\n",
              "    <tr>\n",
              "      <th>...</th>\n",
              "      <td>...</td>\n",
              "      <td>...</td>\n",
              "    </tr>\n",
              "    <tr>\n",
              "      <th>226409</th>\n",
              "      <td>533699</td>\n",
              "      <td>8</td>\n",
              "    </tr>\n",
              "    <tr>\n",
              "      <th>226449</th>\n",
              "      <td>534900</td>\n",
              "      <td>6</td>\n",
              "    </tr>\n",
              "    <tr>\n",
              "      <th>226497</th>\n",
              "      <td>535779</td>\n",
              "      <td>5</td>\n",
              "    </tr>\n",
              "    <tr>\n",
              "      <th>226519</th>\n",
              "      <td>536119</td>\n",
              "      <td>8</td>\n",
              "    </tr>\n",
              "    <tr>\n",
              "      <th>226554</th>\n",
              "      <td>536678</td>\n",
              "      <td>6</td>\n",
              "    </tr>\n",
              "  </tbody>\n",
              "</table>\n",
              "<p>50974 rows × 2 columns</p>\n",
              "</div>"
            ],
            "text/plain": [
              "        recipe_id  RatingCount_recipe\n",
              "2              40                   9\n",
              "8              49                  18\n",
              "13             58                   7\n",
              "15             62                  22\n",
              "17             66                  19\n",
              "...           ...                 ...\n",
              "226409     533699                   8\n",
              "226449     534900                   6\n",
              "226497     535779                   5\n",
              "226519     536119                   8\n",
              "226554     536678                   6\n",
              "\n",
              "[50974 rows x 2 columns]"
            ]
          },
          "metadata": {
            "tags": []
          },
          "execution_count": 5
        }
      ]
    },
    {
      "cell_type": "code",
      "metadata": {
        "id": "3ENXmlbqRqip"
      },
      "source": [
        "\n",
        "inverse_recipes_raw_interactions= {val: i for i, val in enumerate(combined.recipe_id.unique())}\n",
        "combined.recipe_id = combined.recipe_id.map(inverse_recipes_raw_interactions)\n",
        "combined.sort_values(by='recipe_id', inplace=True)\n",
        "combined.reset_index(inplace=True, drop=True)\n",
        "inverse_users_raw_interactions = {val: i for i, val in enumerate(combined.user_id.unique())}\n",
        "combined.user_id = combined.user_id.map(inverse_users_raw_interactions)\n",
        "combined.sort_values(by='user_id', inplace=True)\n",
        "combined.reset_index(inplace=True, drop=True)"
      ],
      "execution_count": null,
      "outputs": []
    },
    {
      "cell_type": "code",
      "metadata": {
        "id": "4MX97eyNR3Dw"
      },
      "source": [
        "\n",
        "train, test = train_test_split(combined, test_size=0.3, random_state=0)\n",
        "\n",
        "n_users, n_recipes= len(combined.user_id.unique()), len(combined.recipe_id.unique())"
      ],
      "execution_count": null,
      "outputs": []
    },
    {
      "cell_type": "code",
      "metadata": {
        "colab": {
          "base_uri": "https://localhost:8080/"
        },
        "id": "7EC-DrdRSDU6",
        "outputId": "435fe990-aec8-4482-d2fb-9722e50788df"
      },
      "source": [
        "print(n_users,n_recipes)\n",
        "embedding_size = 16"
      ],
      "execution_count": null,
      "outputs": [
        {
          "output_type": "stream",
          "text": [
            "18042 50676\n"
          ],
          "name": "stdout"
        }
      ]
    },
    {
      "cell_type": "code",
      "metadata": {
        "id": "f3auuidDBg73"
      },
      "source": [
        ""
      ],
      "execution_count": null,
      "outputs": []
    },
    {
      "cell_type": "code",
      "metadata": {
        "id": "4cKrpnK8Rqly"
      },
      "source": [
        "from keras.layers import Input, Dense, Dropout\n",
        "recipe_input = layers.Input(shape=[1], name='Recipe')\n",
        "user_input = layers.Input(shape=[1], name='User')\n",
        "\n",
        "recipe_embedding = layers.Embedding(input_dim=n_recipes,\n",
        "                                   input_length=1,\n",
        "                                   output_dim=embedding_size,\n",
        "                                   name='Recipe-Embedding')(recipe_input)\n",
        "user_embedding = layers.Embedding(input_dim=n_users,\n",
        "                                  input_length=1,\n",
        "                                  output_dim=embedding_size,\n",
        "                                  name='User-Embedding')(user_input)\n",
        "\n",
        "recipe_vec = layers.Flatten()(recipe_embedding)\n",
        "user_vec = layers.Flatten()(user_embedding)\n",
        "\n",
        "input_vecs = layers.Concatenate()([user_vec, recipe_vec])\n",
        "\n",
        "\n",
        "encoded = layers.Dense(64, activation='relu')(input_vecs)\n",
        "encoded = layers.Dense(32, activation='relu')(encoded)\n",
        "encoded= Dropout(0.9, name='Dropout')(encoded) # Dropout\n",
        "decoded = layers.Dense(32, activation='relu')(encoded)\n",
        "decoded = layers.Dense(64, activation='relu')(decoded)\n",
        "\n",
        "decoded = layers.Dense(1, activation='relu')(decoded)\n",
        "model = keras.Model(inputs=[user_input, recipe_input], outputs=decoded)"
      ],
      "execution_count": null,
      "outputs": []
    },
    {
      "cell_type": "code",
      "metadata": {
        "id": "J4r-8TEZRqx2"
      },
      "source": [
        "opt = keras.optimizers.Adam(learning_rate=0.0001)\n",
        "model.compile(optimizer='adam', loss='mse')"
      ],
      "execution_count": null,
      "outputs": []
    },
    {
      "cell_type": "code",
      "metadata": {
        "colab": {
          "base_uri": "https://localhost:8080/"
        },
        "id": "mNN0hsK7Rq1Q",
        "outputId": "c512768a-583c-4137-b1d2-2a93e4aed0f1"
      },
      "source": [
        "model.summary()"
      ],
      "execution_count": null,
      "outputs": [
        {
          "output_type": "stream",
          "text": [
            "Model: \"model_5\"\n",
            "__________________________________________________________________________________________________\n",
            "Layer (type)                    Output Shape         Param #     Connected to                     \n",
            "==================================================================================================\n",
            "User (InputLayer)               [(None, 1)]          0                                            \n",
            "__________________________________________________________________________________________________\n",
            "Recipe (InputLayer)             [(None, 1)]          0                                            \n",
            "__________________________________________________________________________________________________\n",
            "User-Embedding (Embedding)      (None, 1, 16)        288672      User[0][0]                       \n",
            "__________________________________________________________________________________________________\n",
            "Recipe-Embedding (Embedding)    (None, 1, 16)        810816      Recipe[0][0]                     \n",
            "__________________________________________________________________________________________________\n",
            "flatten_13 (Flatten)            (None, 16)           0           User-Embedding[0][0]             \n",
            "__________________________________________________________________________________________________\n",
            "flatten_12 (Flatten)            (None, 16)           0           Recipe-Embedding[0][0]           \n",
            "__________________________________________________________________________________________________\n",
            "concatenate_6 (Concatenate)     (None, 32)           0           flatten_13[0][0]                 \n",
            "                                                                 flatten_12[0][0]                 \n",
            "__________________________________________________________________________________________________\n",
            "dense_57 (Dense)                (None, 64)           2112        concatenate_6[0][0]              \n",
            "__________________________________________________________________________________________________\n",
            "dense_58 (Dense)                (None, 32)           2080        dense_57[0][0]                   \n",
            "__________________________________________________________________________________________________\n",
            "Dropout (Dropout)               (None, 32)           0           dense_58[0][0]                   \n",
            "__________________________________________________________________________________________________\n",
            "dense_59 (Dense)                (None, 32)           1056        Dropout[0][0]                    \n",
            "__________________________________________________________________________________________________\n",
            "dense_60 (Dense)                (None, 64)           2112        dense_59[0][0]                   \n",
            "__________________________________________________________________________________________________\n",
            "dense_61 (Dense)                (None, 1)            65          dense_60[0][0]                   \n",
            "==================================================================================================\n",
            "Total params: 1,106,913\n",
            "Trainable params: 1,106,913\n",
            "Non-trainable params: 0\n",
            "__________________________________________________________________________________________________\n"
          ],
          "name": "stdout"
        }
      ]
    },
    {
      "cell_type": "code",
      "metadata": {
        "colab": {
          "base_uri": "https://localhost:8080/",
          "height": 181
        },
        "id": "_pX5BNo0aecX",
        "outputId": "88f63b41-4fb2-455e-d5cc-6318c2d1a977"
      },
      "source": [
        "from tensorflow.keras.utils import plot_model\n",
        "plot_model(model, to_file='/content/drive/MyDrive/autoencder_model1.png')"
      ],
      "execution_count": null,
      "outputs": [
        {
          "output_type": "error",
          "ename": "NameError",
          "evalue": "ignored",
          "traceback": [
            "\u001b[0;31m---------------------------------------------------------------------------\u001b[0m",
            "\u001b[0;31mNameError\u001b[0m                                 Traceback (most recent call last)",
            "\u001b[0;32m<ipython-input-7-d63b7348b9a0>\u001b[0m in \u001b[0;36m<module>\u001b[0;34m()\u001b[0m\n\u001b[1;32m      1\u001b[0m \u001b[0;32mfrom\u001b[0m \u001b[0mtensorflow\u001b[0m\u001b[0;34m.\u001b[0m\u001b[0mkeras\u001b[0m\u001b[0;34m.\u001b[0m\u001b[0mutils\u001b[0m \u001b[0;32mimport\u001b[0m \u001b[0mplot_model\u001b[0m\u001b[0;34m\u001b[0m\u001b[0;34m\u001b[0m\u001b[0m\n\u001b[0;32m----> 2\u001b[0;31m \u001b[0mplot_model\u001b[0m\u001b[0;34m(\u001b[0m\u001b[0mmodel\u001b[0m\u001b[0;34m,\u001b[0m \u001b[0mto_file\u001b[0m\u001b[0;34m=\u001b[0m\u001b[0;34m'/content/drive/MyDrive/autoencder_model1.png'\u001b[0m\u001b[0;34m)\u001b[0m\u001b[0;34m\u001b[0m\u001b[0;34m\u001b[0m\u001b[0m\n\u001b[0m",
            "\u001b[0;31mNameError\u001b[0m: name 'model' is not defined"
          ]
        }
      ]
    },
    {
      "cell_type": "code",
      "metadata": {
        "id": "lABJOj-IRq4v"
      },
      "source": [
        "epochs = 10"
      ],
      "execution_count": null,
      "outputs": []
    },
    {
      "cell_type": "code",
      "metadata": {
        "id": "bYBdNb-iYpc9",
        "colab": {
          "base_uri": "https://localhost:8080/",
          "height": 232
        },
        "outputId": "4f4ba365-0d6b-4616-f130-de59f31feced"
      },
      "source": [
        "import pickle\n",
        "hist_json_file = '/content/drive/MyDrive/history_autoencoder_final.json' \n",
        "history1 = pd.DataFrame(History.history) \n",
        "# save to json:  \n",
        "with open(hist_json_file, mode='w') as f:\n",
        "    history1.to_json(f)"
      ],
      "execution_count": null,
      "outputs": [
        {
          "output_type": "error",
          "ename": "NameError",
          "evalue": "ignored",
          "traceback": [
            "\u001b[0;31m---------------------------------------------------------------------------\u001b[0m",
            "\u001b[0;31mNameError\u001b[0m                                 Traceback (most recent call last)",
            "\u001b[0;32m<ipython-input-5-438b1cac4ce8>\u001b[0m in \u001b[0;36m<module>\u001b[0;34m()\u001b[0m\n\u001b[1;32m      1\u001b[0m \u001b[0;32mimport\u001b[0m \u001b[0mpickle\u001b[0m\u001b[0;34m\u001b[0m\u001b[0;34m\u001b[0m\u001b[0m\n\u001b[1;32m      2\u001b[0m \u001b[0mhist_json_file\u001b[0m \u001b[0;34m=\u001b[0m \u001b[0;34m'/content/drive/MyDrive/history_autoencoder_final.json'\u001b[0m\u001b[0;34m\u001b[0m\u001b[0;34m\u001b[0m\u001b[0m\n\u001b[0;32m----> 3\u001b[0;31m \u001b[0mhistory1\u001b[0m \u001b[0;34m=\u001b[0m \u001b[0mpd\u001b[0m\u001b[0;34m.\u001b[0m\u001b[0mDataFrame\u001b[0m\u001b[0;34m(\u001b[0m\u001b[0mHistory\u001b[0m\u001b[0;34m.\u001b[0m\u001b[0mhistory\u001b[0m\u001b[0;34m)\u001b[0m\u001b[0;34m\u001b[0m\u001b[0;34m\u001b[0m\u001b[0m\n\u001b[0m\u001b[1;32m      4\u001b[0m \u001b[0;31m# save to json:\u001b[0m\u001b[0;34m\u001b[0m\u001b[0;34m\u001b[0m\u001b[0;34m\u001b[0m\u001b[0m\n\u001b[1;32m      5\u001b[0m \u001b[0;32mwith\u001b[0m \u001b[0mopen\u001b[0m\u001b[0;34m(\u001b[0m\u001b[0mhist_json_file\u001b[0m\u001b[0;34m,\u001b[0m \u001b[0mmode\u001b[0m\u001b[0;34m=\u001b[0m\u001b[0;34m'w'\u001b[0m\u001b[0;34m)\u001b[0m \u001b[0;32mas\u001b[0m \u001b[0mf\u001b[0m\u001b[0;34m:\u001b[0m\u001b[0;34m\u001b[0m\u001b[0;34m\u001b[0m\u001b[0m\n",
            "\u001b[0;31mNameError\u001b[0m: name 'History' is not defined"
          ]
        }
      ]
    },
    {
      "cell_type": "code",
      "metadata": {
        "colab": {
          "base_uri": "https://localhost:8080/"
        },
        "id": "LAr4xQ7QY0Q-",
        "outputId": "1b561d04-53fe-4eab-8947-f4c52a698d14"
      },
      "source": [
        "history1.history"
      ],
      "execution_count": null,
      "outputs": [
        {
          "output_type": "execute_result",
          "data": {
            "text/plain": [
              "{'loss': [0.5333150029182434,\n",
              "  0.3158858120441437,\n",
              "  0.26876765489578247,\n",
              "  0.20381252467632294,\n",
              "  0.15249592065811157,\n",
              "  0.11917801201343536,\n",
              "  0.09736616909503937,\n",
              "  0.08319386094808578,\n",
              "  0.07360731810331345,\n",
              "  0.06713832914829254],\n",
              " 'val_loss': [0.6561963558197021,\n",
              "  0.5744568109512329,\n",
              "  0.5311769247055054,\n",
              "  0.9776740074157715,\n",
              "  1.0907129049301147,\n",
              "  1.1310232877731323,\n",
              "  1.3553599119186401,\n",
              "  1.6270450353622437,\n",
              "  1.4657894372940063,\n",
              "  1.3474723100662231]}"
            ]
          },
          "metadata": {
            "tags": []
          },
          "execution_count": 61
        }
      ]
    },
    {
      "cell_type": "code",
      "metadata": {
        "id": "SdUGJPpfY247"
      },
      "source": [
        "history1.model.save('/content/drive/MyDrive/model_autoencoder_final.h5')\n"
      ],
      "execution_count": null,
      "outputs": []
    },
    {
      "cell_type": "code",
      "metadata": {
        "id": "0tyK5_nkZIH3"
      },
      "source": [
        "from keras.models import load_model\n",
        "model_diploma1=load_model('/content/drive/MyDrive/model_autoencoder_final.h5')\n",
        "model_diplom=load_model('/content/drive/MyDrive/autoencoder.h5')"
      ],
      "execution_count": null,
      "outputs": []
    },
    {
      "cell_type": "code",
      "metadata": {
        "colab": {
          "base_uri": "https://localhost:8080/",
          "height": 759
        },
        "id": "Q1anY_T_MiVL",
        "outputId": "51ece666-5700-4de9-9f06-1d04f5e0600d"
      },
      "source": [
        "train"
      ],
      "execution_count": null,
      "outputs": [
        {
          "output_type": "execute_result",
          "data": {
            "text/html": [
              "<div>\n",
              "<style scoped>\n",
              "    .dataframe tbody tr th:only-of-type {\n",
              "        vertical-align: middle;\n",
              "    }\n",
              "\n",
              "    .dataframe tbody tr th {\n",
              "        vertical-align: top;\n",
              "    }\n",
              "\n",
              "    .dataframe thead th {\n",
              "        text-align: right;\n",
              "    }\n",
              "</style>\n",
              "<table border=\"1\" class=\"dataframe\">\n",
              "  <thead>\n",
              "    <tr style=\"text-align: right;\">\n",
              "      <th></th>\n",
              "      <th>recipe_id</th>\n",
              "      <th>RatingCount_recipe</th>\n",
              "      <th>user_id</th>\n",
              "      <th>date</th>\n",
              "      <th>rating</th>\n",
              "      <th>review</th>\n",
              "      <th>RatingCount_user</th>\n",
              "    </tr>\n",
              "  </thead>\n",
              "  <tbody>\n",
              "    <tr>\n",
              "      <th>14851</th>\n",
              "      <td>18794</td>\n",
              "      <td>22</td>\n",
              "      <td>68</td>\n",
              "      <td>2006-10-16</td>\n",
              "      <td>5</td>\n",
              "      <td>Very yummy! Chewy, crunchy oatmeal cookie with...</td>\n",
              "      <td>1633</td>\n",
              "    </tr>\n",
              "    <tr>\n",
              "      <th>341935</th>\n",
              "      <td>4473</td>\n",
              "      <td>66</td>\n",
              "      <td>3712</td>\n",
              "      <td>2007-12-03</td>\n",
              "      <td>4</td>\n",
              "      <td>My turned out way more brown than this picture...</td>\n",
              "      <td>73</td>\n",
              "    </tr>\n",
              "    <tr>\n",
              "      <th>155086</th>\n",
              "      <td>44224</td>\n",
              "      <td>8</td>\n",
              "      <td>1041</td>\n",
              "      <td>2010-02-20</td>\n",
              "      <td>3</td>\n",
              "      <td>This was a great sauce, I did not use shrimp, ...</td>\n",
              "      <td>153</td>\n",
              "    </tr>\n",
              "    <tr>\n",
              "      <th>110238</th>\n",
              "      <td>2351</td>\n",
              "      <td>108</td>\n",
              "      <td>618</td>\n",
              "      <td>2009-05-31</td>\n",
              "      <td>5</td>\n",
              "      <td>Great recipe!  DH bought hot and spicy taco se...</td>\n",
              "      <td>324</td>\n",
              "    </tr>\n",
              "    <tr>\n",
              "      <th>368543</th>\n",
              "      <td>22320</td>\n",
              "      <td>11</td>\n",
              "      <td>4274</td>\n",
              "      <td>2008-11-13</td>\n",
              "      <td>4</td>\n",
              "      <td>Worth trying.  My broth wasn't as deep as that...</td>\n",
              "      <td>81</td>\n",
              "    </tr>\n",
              "    <tr>\n",
              "      <th>...</th>\n",
              "      <td>...</td>\n",
              "      <td>...</td>\n",
              "      <td>...</td>\n",
              "      <td>...</td>\n",
              "      <td>...</td>\n",
              "      <td>...</td>\n",
              "      <td>...</td>\n",
              "    </tr>\n",
              "    <tr>\n",
              "      <th>359783</th>\n",
              "      <td>2835</td>\n",
              "      <td>6</td>\n",
              "      <td>4015</td>\n",
              "      <td>2009-02-06</td>\n",
              "      <td>5</td>\n",
              "      <td>Great flavor, fast &amp; easy!  I seasoned my chic...</td>\n",
              "      <td>228</td>\n",
              "    </tr>\n",
              "    <tr>\n",
              "      <th>152315</th>\n",
              "      <td>11966</td>\n",
              "      <td>181</td>\n",
              "      <td>1019</td>\n",
              "      <td>2006-03-22</td>\n",
              "      <td>4</td>\n",
              "      <td>The taste of the carrots were good and it is e...</td>\n",
              "      <td>42</td>\n",
              "    </tr>\n",
              "    <tr>\n",
              "      <th>117952</th>\n",
              "      <td>21942</td>\n",
              "      <td>22</td>\n",
              "      <td>706</td>\n",
              "      <td>2005-08-08</td>\n",
              "      <td>4</td>\n",
              "      <td>These were great!   I made them last night and...</td>\n",
              "      <td>532</td>\n",
              "    </tr>\n",
              "    <tr>\n",
              "      <th>435829</th>\n",
              "      <td>12003</td>\n",
              "      <td>6</td>\n",
              "      <td>6786</td>\n",
              "      <td>2009-03-10</td>\n",
              "      <td>3</td>\n",
              "      <td>I was slightly disappointed with this marinade...</td>\n",
              "      <td>120</td>\n",
              "    </tr>\n",
              "    <tr>\n",
              "      <th>305711</th>\n",
              "      <td>8707</td>\n",
              "      <td>7</td>\n",
              "      <td>2938</td>\n",
              "      <td>2003-10-17</td>\n",
              "      <td>5</td>\n",
              "      <td>This marinade is fabulous! I used it on bonele...</td>\n",
              "      <td>144</td>\n",
              "    </tr>\n",
              "  </tbody>\n",
              "</table>\n",
              "<p>401309 rows × 7 columns</p>\n",
              "</div>"
            ],
            "text/plain": [
              "        recipe_id  ...  RatingCount_user\n",
              "14851       18794  ...              1633\n",
              "341935       4473  ...                73\n",
              "155086      44224  ...               153\n",
              "110238       2351  ...               324\n",
              "368543      22320  ...                81\n",
              "...           ...  ...               ...\n",
              "359783       2835  ...               228\n",
              "152315      11966  ...                42\n",
              "117952      21942  ...               532\n",
              "435829      12003  ...               120\n",
              "305711       8707  ...               144\n",
              "\n",
              "[401309 rows x 7 columns]"
            ]
          },
          "metadata": {
            "tags": []
          },
          "execution_count": 12
        }
      ]
    },
    {
      "cell_type": "code",
      "metadata": {
        "colab": {
          "base_uri": "https://localhost:8080/"
        },
        "id": "gm2ZY1HjM5iJ",
        "outputId": "ed297d8a-8c83-4a06-836e-0933ad3e4f6b"
      },
      "source": [
        "test_preds"
      ],
      "execution_count": null,
      "outputs": [
        {
          "output_type": "execute_result",
          "data": {
            "text/plain": [
              "array([[4.4153743],\n",
              "       [2.7818422],\n",
              "       [3.2523348],\n",
              "       ...,\n",
              "       [1.530821 ],\n",
              "       [4.3232856],\n",
              "       [2.419536 ]], dtype=float32)"
            ]
          },
          "metadata": {
            "tags": []
          },
          "execution_count": 17
        }
      ]
    },
    {
      "cell_type": "code",
      "metadata": {
        "id": "3SggSyMwZOgG"
      },
      "source": [
        "test_preds = model_diploma1.predict([test.user_id, test.recipe_id])"
      ],
      "execution_count": null,
      "outputs": []
    },
    {
      "cell_type": "code",
      "metadata": {
        "colab": {
          "base_uri": "https://localhost:8080/"
        },
        "id": "ZQwukxNVKRME",
        "outputId": "7ec5d522-c227-411e-f0f6-b2909ce8c04a"
      },
      "source": [
        "test_preds[4]"
      ],
      "execution_count": null,
      "outputs": [
        {
          "output_type": "execute_result",
          "data": {
            "text/plain": [
              "array([4.42628], dtype=float32)"
            ]
          },
          "metadata": {
            "tags": []
          },
          "execution_count": 23
        }
      ]
    },
    {
      "cell_type": "code",
      "metadata": {
        "colab": {
          "base_uri": "https://localhost:8080/"
        },
        "id": "TckAMAT5RQEK",
        "outputId": "e196065a-ebdd-4d3f-f985-2b4b5f4b22be"
      },
      "source": [
        "from sklearn.metrics import mean_squared_error\n",
        "from sklearn.metrics import mean_absolute_error\n",
        "mean_squared_error(test.rating,test_preds)\n"
      ],
      "execution_count": null,
      "outputs": [
        {
          "output_type": "execute_result",
          "data": {
            "text/plain": [
              "1.3403253815663967"
            ]
          },
          "metadata": {
            "tags": []
          },
          "execution_count": 28
        }
      ]
    },
    {
      "cell_type": "code",
      "metadata": {
        "colab": {
          "base_uri": "https://localhost:8080/"
        },
        "id": "DZ10-BmVfV1j",
        "outputId": "723bd6f3-5006-4d30-a31a-b4e593471667"
      },
      "source": [
        "\n",
        "raw_interactions = pd.read_csv('/content/drive/MyDrive/archive/RAW_interactions.csv')\n",
        "raw_recipes = pd.read_csv('/content/drive/MyDrive/archive/RAW_recipes.csv')\n",
        "raw_interactions = raw_interactions.dropna()\n",
        "raw_interactions = raw_interactions[raw_interactions[\"rating\"] !=0]\n",
        "raw_interactions.shape\n",
        "\n",
        "rating_count = (raw_interactions.\n",
        "     groupby(by = ['recipe_id'])['rating'].\n",
        "     count().\n",
        "     reset_index().\n",
        "     rename(columns = {'rating': 'RatingCount_recipe'})\n",
        "     [['recipe_id', 'RatingCount_recipe']]\n",
        "    )\n",
        "rating_count1 = rating_count.query('RatingCount_recipe >= 5')\n",
        "\n",
        "\n",
        "user_rating = pd.merge(rating_count1, raw_interactions, left_on='recipe_id', right_on='recipe_id', how='left')\n",
        "user_count = (user_rating.\n",
        "     groupby(by = ['user_id'])['rating'].\n",
        "     count().\n",
        "     reset_index().\n",
        "     rename(columns = {'rating': 'RatingCount_user'})\n",
        "     [['user_id', 'RatingCount_user']]\n",
        "    )\n",
        "user_count = user_count.query('RatingCount_user >=5')\n",
        "\n",
        "combined_df= user_rating.merge(user_count, left_on = 'user_id', right_on = 'user_id', how = 'inner')\n",
        "combined_df= combined_df.merge(raw_recipes, left_on = 'recipe_id', right_on = 'id', how = 'inner')\n",
        "\n",
        "print('unique recipes: ', combined_df['recipe_id'].nunique())\n",
        "print('Unique users: ', combined_df['user_id'].nunique())"
      ],
      "execution_count": null,
      "outputs": [
        {
          "output_type": "stream",
          "text": [
            "unique recipes:  50676\n",
            "Unique users:  18042\n"
          ],
          "name": "stdout"
        }
      ]
    },
    {
      "cell_type": "code",
      "metadata": {
        "id": "LK3rZAECfV8f"
      },
      "source": [
        "\n",
        "inverse_recipes_raw_interactions= {val: i for i, val in enumerate(combined_df.recipe_id.unique())}\n",
        "combined_df.recipe_id = combined_df.recipe_id.map(inverse_recipes_raw_interactions)\n",
        "combined_df.sort_values(by='recipe_id', inplace=True)\n",
        "combined_df.reset_index(inplace=True, drop=True)\n",
        "inverse_users_raw_interactions = {val: i for i, val in enumerate(combined_df.user_id.unique())}\n",
        "combined_df.user_id = combined_df.user_id.map(inverse_users_raw_interactions)\n",
        "combined_df.sort_values(by='user_id', inplace=True)\n",
        "combined_df.reset_index(inplace=True, drop=True)"
      ],
      "execution_count": null,
      "outputs": []
    },
    {
      "cell_type": "code",
      "metadata": {
        "id": "Ed-h-pnvrvlD"
      },
      "source": [
        "test_preds = model.predict([test.user_id, test.recipe_id])\n"
      ],
      "execution_count": null,
      "outputs": []
    },
    {
      "cell_type": "code",
      "metadata": {
        "colab": {
          "base_uri": "https://localhost:8080/"
        },
        "id": "JUIJrb9r9Xhn",
        "outputId": "4b51d198-7732-4fa5-fdde-8e11f996b6bd"
      },
      "source": [
        "test_preds.shape"
      ],
      "execution_count": null,
      "outputs": [
        {
          "output_type": "execute_result",
          "data": {
            "text/plain": [
              "(171990, 1)"
            ]
          },
          "metadata": {
            "tags": []
          },
          "execution_count": 124
        }
      ]
    },
    {
      "cell_type": "code",
      "metadata": {
        "colab": {
          "base_uri": "https://localhost:8080/"
        },
        "id": "5cxT1hr09rwz",
        "outputId": "75f00eec-aa51-44e3-8d66-27761ee1f849"
      },
      "source": [
        ""
      ],
      "execution_count": null,
      "outputs": [
        {
          "output_type": "execute_result",
          "data": {
            "text/plain": [
              "array([4.342291], dtype=float32)"
            ]
          },
          "metadata": {
            "tags": []
          },
          "execution_count": 125
        }
      ]
    },
    {
      "cell_type": "code",
      "metadata": {
        "colab": {
          "base_uri": "https://localhost:8080/"
        },
        "id": "dXHfYKGr9n4Q",
        "outputId": "db2be1ca-9da7-4d92-8360-b97bb0a619a1"
      },
      "source": [
        "test"
      ],
      "execution_count": null,
      "outputs": [
        {
          "output_type": "execute_result",
          "data": {
            "text/plain": [
              "186907    False\n",
              "262609    False\n",
              "501088    False\n",
              "471809    False\n",
              "410153    False\n",
              "          ...  \n",
              "189252    False\n",
              "172600    False\n",
              "91542     False\n",
              "522894    False\n",
              "223079    False\n",
              "Name: user_id, Length: 171990, dtype: bool"
            ]
          },
          "metadata": {
            "tags": []
          },
          "execution_count": 127
        }
      ]
    },
    {
      "cell_type": "code",
      "metadata": {
        "id": "PL0j2NHF8T5q"
      },
      "source": [
        "rated_recipes = list(combined_df[combined_df['user_id'] == 10]['recipe_id'])"
      ],
      "execution_count": null,
      "outputs": []
    },
    {
      "cell_type": "code",
      "metadata": {
        "colab": {
          "base_uri": "https://localhost:8080/"
        },
        "id": "7KVKgS8e_Nzd",
        "outputId": "3a551c21-e633-4504-915a-fa3db763006e"
      },
      "source": [
        "rated_recipes"
      ],
      "execution_count": null,
      "outputs": [
        {
          "output_type": "execute_result",
          "data": {
            "text/plain": [
              "[5035,\n",
              " 4442,\n",
              " 17722,\n",
              " 25253,\n",
              " 40920,\n",
              " 40921,\n",
              " 14928,\n",
              " 26236,\n",
              " 39805,\n",
              " 1067,\n",
              " 1712,\n",
              " 10657,\n",
              " 2]"
            ]
          },
          "metadata": {
            "tags": []
          },
          "execution_count": 131
        }
      ]
    },
    {
      "cell_type": "code",
      "metadata": {
        "id": "Iafiz1C2_Pzr"
      },
      "source": [
        "recipe_ids = list(filter(lambda x: x not in rated_recipes, combined_df.recipe_id))"
      ],
      "execution_count": null,
      "outputs": []
    },
    {
      "cell_type": "code",
      "metadata": {
        "colab": {
          "base_uri": "https://localhost:8080/"
        },
        "id": "XLuX_QRC_dMX",
        "outputId": "f6f88f12-5120-44e5-a37c-6b09b37a7a0b"
      },
      "source": [
        "len(recipe_ids)"
      ],
      "execution_count": null,
      "outputs": [
        {
          "output_type": "execute_result",
          "data": {
            "text/plain": [
              "572994"
            ]
          },
          "metadata": {
            "tags": []
          },
          "execution_count": 134
        }
      ]
    },
    {
      "cell_type": "code",
      "metadata": {
        "colab": {
          "base_uri": "https://localhost:8080/"
        },
        "id": "FPGhT61h_g7y",
        "outputId": "47d84ec5-d2ff-4d60-ddd2-b906473bf968"
      },
      "source": [
        " print(\"Usuário \" + str(10) + \" assistiu \" + str(len(rated_recipes)) + \" filmes. \" +\n",
        "          \"Calculando ratings para outros \" + str(len(recipe_ids)) + \" filmes.\")"
      ],
      "execution_count": null,
      "outputs": [
        {
          "output_type": "stream",
          "text": [
            "Usuário 10 assistiu 13 filmes. Calculando ratings para outros 572994 filmes.\n"
          ],
          "name": "stdout"
        }
      ]
    },
    {
      "cell_type": "code",
      "metadata": {
        "id": "sgiLS3x0_nr0"
      },
      "source": [
        "recipe_ids = np.array(recipe_ids)\n",
        "user = np.zeros_like(recipe_ids)\n",
        "user[:] = 10\n",
        "\n"
      ],
      "execution_count": null,
      "outputs": []
    },
    {
      "cell_type": "code",
      "metadata": {
        "id": "OT51tvjD_4T2"
      },
      "source": [
        "rating_preds = model.predict([user, recipe_ids])\n"
      ],
      "execution_count": null,
      "outputs": []
    },
    {
      "cell_type": "code",
      "metadata": {
        "id": "X9sQBkkL_9Di"
      },
      "source": [
        "recipe_ids = np.argsort(rating_preds[:, 0])[::-1].tolist()\n",
        "rec_items = recipe_ids[:10]"
      ],
      "execution_count": null,
      "outputs": []
    },
    {
      "cell_type": "code",
      "metadata": {
        "id": "sCVQpO4KAF3a"
      },
      "source": [
        "rec_items=[(str(combined_df['recipe_id'][recipe]), combined_df['name'][recipe],\n",
        "             rating_preds[recipe][0]) for recipe in rec_items]"
      ],
      "execution_count": null,
      "outputs": []
    },
    {
      "cell_type": "code",
      "metadata": {
        "colab": {
          "base_uri": "https://localhost:8080/"
        },
        "id": "L23q4kejAxv2",
        "outputId": "4d033247-634d-41db-8e2a-a9f024c68c8e"
      },
      "source": [
        "rec_items"
      ],
      "execution_count": null,
      "outputs": [
        {
          "output_type": "execute_result",
          "data": {
            "text/plain": [
              "[('20039', 'ham and  cheddar macaroni salad', 4.9314637),\n",
              " ('18720', 'macaroni   cheese deluxe', 4.9314637),\n",
              " ('1447', 'balsamic and brown sugar roasted carrots', 4.9314637),\n",
              " ('7101', 'kittencal s taco seasoning mix', 4.9314637),\n",
              " ('35999', 'clear spinach and tomato soup ww friendly core', 4.9314637),\n",
              " ('26420', 'key lime pie martini', 4.9314637),\n",
              " ('24471', 'glazed soft pumpkin cookies', 4.9314637),\n",
              " ('5987', 'slow simmered spaghetti sauce', 4.9314637),\n",
              " ('2213',\n",
              "  'tsr version of t g i  friday s black bean soup by todd wilbur',\n",
              "  4.928758),\n",
              " ('7659', 'green beans from a can that don t taste like it', 4.928758)]"
            ]
          },
          "metadata": {
            "tags": []
          },
          "execution_count": 146
        }
      ]
    },
    {
      "cell_type": "code",
      "metadata": {
        "colab": {
          "base_uri": "https://localhost:8080/"
        },
        "id": "MlnjXt8CZOlV",
        "outputId": "8ae855e0-88e0-4d0f-cf34-b8fb50edcb56"
      },
      "source": [
        "test_preds.shape"
      ],
      "execution_count": null,
      "outputs": [
        {
          "output_type": "execute_result",
          "data": {
            "text/plain": [
              "(171990, 1)"
            ]
          },
          "metadata": {
            "tags": []
          },
          "execution_count": 84
        }
      ]
    },
    {
      "cell_type": "code",
      "metadata": {
        "id": "Hr5Wlct-ZOnx",
        "colab": {
          "base_uri": "https://localhost:8080/",
          "height": 295
        },
        "outputId": "699faf2d-bf3f-4e39-9a67-e363baeb94ca"
      },
      "source": [
        "import matplotlib.pyplot as plt\n",
        "\n",
        "plt.plot(history1.history['loss'])\n",
        "plt.plot(history1.history['val_loss'])\n",
        "plt.title('model accuracy')\n",
        "plt.ylabel('accuracy')\n",
        "plt.xlabel('epoch')\n",
        "plt.legend(['train', 'validation'], loc='upper left')\n",
        "plt.show()"
      ],
      "execution_count": null,
      "outputs": [
        {
          "output_type": "display_data",
          "data": {
            "image/png": "[encoded data removed]",
            "text/plain": [
              "<Figure size 432x288 with 1 Axes>"
            ]
          },
          "metadata": {
            "tags": [],
            "needs_background": "light"
          }
        }
      ]
    },
    {
      "cell_type": "code",
      "metadata": {
        "id": "hrXYat1VHudI"
      },
      "source": [
        ""
      ],
      "execution_count": null,
      "outputs": []
    }
  ]
}