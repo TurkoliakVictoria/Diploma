{
  "nbformat": 4,
  "nbformat_minor": 0,
  "metadata": {
    "kernelspec": {
      "display_name": "Python [conda env:py37_pytorch]",
      "language": "python",
      "name": "conda-env-py37_pytorch-py"
    },
    "language_info": {
      "codemirror_mode": {
        "name": "ipython",
        "version": 3
      },
      "file_extension": ".py",
      "mimetype": "text/x-python",
      "name": "python",
      "nbconvert_exporter": "python",
      "pygments_lexer": "ipython3",
      "version": "3.7.9"
    },
    "colab": {
      "name": "Naive Bayes recsys.ipynb",
      "provenance": [],
      "collapsed_sections": []
    }
  },
  "cells": [
    {
      "cell_type": "code",
      "metadata": {
        "id": "9quDK0drcHiL",
        "colab": {
          "base_uri": "https://localhost:8080/",
          "height": 1000
        },
        "outputId": "72689053-cc07-4ed0-d42e-3cade831dc94"
      },
      "source": [
        "import pandas as pd\n",
        "import numpy as np\n",
        "\n",
        "import matplotlib.pyplot as plt\n",
        "import os\n",
        "import re\n",
        "from sklearn.svm import SVC\n",
        "from sklearn.svm import LinearSVC\n",
        "from sklearn.naive_bayes import MultinomialNB\n",
        "from sklearn.linear_model import LogisticRegression\n",
        "from sklearn.model_selection import GridSearchCV\n",
        "from sklearn.pipeline import Pipeline\n",
        "from sklearn.feature_extraction.text import CountVectorizer, TfidfVectorizer\n",
        "from sklearn.model_selection import cross_val_score\n",
        "import nltk\n",
        "nltk.download()\n",
        "from nltk.corpus import stopwords\n",
        "STOPWORDS = set(stopwords.words('english'))"
      ],
      "execution_count": null,
      "outputs": [
        {
          "output_type": "stream",
          "text": [
            "NLTK Downloader\n",
            "---------------------------------------------------------------------------\n",
            "    d) Download   l) List    u) Update   c) Config   h) Help   q) Quit\n",
            "---------------------------------------------------------------------------\n",
            "Downloader> q\n"
          ],
          "name": "stdout"
        },
        {
          "output_type": "error",
          "ename": "LookupError",
          "evalue": "ignored",
          "traceback": [
            "\u001b[0;31m---------------------------------------------------------------------------\u001b[0m",
            "\u001b[0;31mLookupError\u001b[0m                               Traceback (most recent call last)",
            "\u001b[0;32m/usr/local/lib/python3.7/dist-packages/nltk/corpus/util.py\u001b[0m in \u001b[0;36m__load\u001b[0;34m(self)\u001b[0m\n\u001b[1;32m     79\u001b[0m             \u001b[0;32mexcept\u001b[0m \u001b[0mLookupError\u001b[0m \u001b[0;32mas\u001b[0m \u001b[0me\u001b[0m\u001b[0;34m:\u001b[0m\u001b[0;34m\u001b[0m\u001b[0;34m\u001b[0m\u001b[0m\n\u001b[0;32m---> 80\u001b[0;31m                 \u001b[0;32mtry\u001b[0m\u001b[0;34m:\u001b[0m \u001b[0mroot\u001b[0m \u001b[0;34m=\u001b[0m \u001b[0mnltk\u001b[0m\u001b[0;34m.\u001b[0m\u001b[0mdata\u001b[0m\u001b[0;34m.\u001b[0m\u001b[0mfind\u001b[0m\u001b[0;34m(\u001b[0m\u001b[0;34m'{}/{}'\u001b[0m\u001b[0;34m.\u001b[0m\u001b[0mformat\u001b[0m\u001b[0;34m(\u001b[0m\u001b[0mself\u001b[0m\u001b[0;34m.\u001b[0m\u001b[0msubdir\u001b[0m\u001b[0;34m,\u001b[0m \u001b[0mzip_name\u001b[0m\u001b[0;34m)\u001b[0m\u001b[0;34m)\u001b[0m\u001b[0;34m\u001b[0m\u001b[0;34m\u001b[0m\u001b[0m\n\u001b[0m\u001b[1;32m     81\u001b[0m                 \u001b[0;32mexcept\u001b[0m \u001b[0mLookupError\u001b[0m\u001b[0;34m:\u001b[0m \u001b[0;32mraise\u001b[0m \u001b[0me\u001b[0m\u001b[0;34m\u001b[0m\u001b[0;34m\u001b[0m\u001b[0m\n",
            "\u001b[0;32m/usr/local/lib/python3.7/dist-packages/nltk/data.py\u001b[0m in \u001b[0;36mfind\u001b[0;34m(resource_name, paths)\u001b[0m\n\u001b[1;32m    672\u001b[0m     \u001b[0mresource_not_found\u001b[0m \u001b[0;34m=\u001b[0m \u001b[0;34m'\\n%s\\n%s\\n%s\\n'\u001b[0m \u001b[0;34m%\u001b[0m \u001b[0;34m(\u001b[0m\u001b[0msep\u001b[0m\u001b[0;34m,\u001b[0m \u001b[0mmsg\u001b[0m\u001b[0;34m,\u001b[0m \u001b[0msep\u001b[0m\u001b[0;34m)\u001b[0m\u001b[0;34m\u001b[0m\u001b[0;34m\u001b[0m\u001b[0m\n\u001b[0;32m--> 673\u001b[0;31m     \u001b[0;32mraise\u001b[0m \u001b[0mLookupError\u001b[0m\u001b[0;34m(\u001b[0m\u001b[0mresource_not_found\u001b[0m\u001b[0;34m)\u001b[0m\u001b[0;34m\u001b[0m\u001b[0;34m\u001b[0m\u001b[0m\n\u001b[0m\u001b[1;32m    674\u001b[0m \u001b[0;34m\u001b[0m\u001b[0m\n",
            "\u001b[0;31mLookupError\u001b[0m: \n**********************************************************************\n  Resource \u001b[93mstopwords\u001b[0m not found.\n  Please use the NLTK Downloader to obtain the resource:\n\n  \u001b[31m>>> import nltk\n  >>> nltk.download('stopwords')\n  \u001b[0m\n  Searched in:\n    - '/root/nltk_data'\n    - '/usr/share/nltk_data'\n    - '/usr/local/share/nltk_data'\n    - '/usr/lib/nltk_data'\n    - '/usr/local/lib/nltk_data'\n    - '/usr/nltk_data'\n    - '/usr/lib/nltk_data'\n**********************************************************************\n",
            "\nDuring handling of the above exception, another exception occurred:\n",
            "\u001b[0;31mLookupError\u001b[0m                               Traceback (most recent call last)",
            "\u001b[0;32m<ipython-input-1-9503f078431e>\u001b[0m in \u001b[0;36m<module>\u001b[0;34m()\u001b[0m\n\u001b[1;32m     16\u001b[0m \u001b[0mnltk\u001b[0m\u001b[0;34m.\u001b[0m\u001b[0mdownload\u001b[0m\u001b[0;34m(\u001b[0m\u001b[0;34m)\u001b[0m\u001b[0;34m\u001b[0m\u001b[0;34m\u001b[0m\u001b[0m\n\u001b[1;32m     17\u001b[0m \u001b[0;32mfrom\u001b[0m \u001b[0mnltk\u001b[0m\u001b[0;34m.\u001b[0m\u001b[0mcorpus\u001b[0m \u001b[0;32mimport\u001b[0m \u001b[0mstopwords\u001b[0m\u001b[0;34m\u001b[0m\u001b[0;34m\u001b[0m\u001b[0m\n\u001b[0;32m---> 18\u001b[0;31m \u001b[0mSTOPWORDS\u001b[0m \u001b[0;34m=\u001b[0m \u001b[0mset\u001b[0m\u001b[0;34m(\u001b[0m\u001b[0mstopwords\u001b[0m\u001b[0;34m.\u001b[0m\u001b[0mwords\u001b[0m\u001b[0;34m(\u001b[0m\u001b[0;34m'english'\u001b[0m\u001b[0;34m)\u001b[0m\u001b[0;34m)\u001b[0m\u001b[0;34m\u001b[0m\u001b[0;34m\u001b[0m\u001b[0m\n\u001b[0m",
            "\u001b[0;32m/usr/local/lib/python3.7/dist-packages/nltk/corpus/util.py\u001b[0m in \u001b[0;36m__getattr__\u001b[0;34m(self, attr)\u001b[0m\n\u001b[1;32m    114\u001b[0m             \u001b[0;32mraise\u001b[0m \u001b[0mAttributeError\u001b[0m\u001b[0;34m(\u001b[0m\u001b[0;34m\"LazyCorpusLoader object has no attribute '__bases__'\"\u001b[0m\u001b[0;34m)\u001b[0m\u001b[0;34m\u001b[0m\u001b[0;34m\u001b[0m\u001b[0m\n\u001b[1;32m    115\u001b[0m \u001b[0;34m\u001b[0m\u001b[0m\n\u001b[0;32m--> 116\u001b[0;31m         \u001b[0mself\u001b[0m\u001b[0;34m.\u001b[0m\u001b[0m__load\u001b[0m\u001b[0;34m(\u001b[0m\u001b[0;34m)\u001b[0m\u001b[0;34m\u001b[0m\u001b[0;34m\u001b[0m\u001b[0m\n\u001b[0m\u001b[1;32m    117\u001b[0m         \u001b[0;31m# This looks circular, but its not, since __load() changes our\u001b[0m\u001b[0;34m\u001b[0m\u001b[0;34m\u001b[0m\u001b[0;34m\u001b[0m\u001b[0m\n\u001b[1;32m    118\u001b[0m         \u001b[0;31m# __class__ to something new:\u001b[0m\u001b[0;34m\u001b[0m\u001b[0;34m\u001b[0m\u001b[0;34m\u001b[0m\u001b[0m\n",
            "\u001b[0;32m/usr/local/lib/python3.7/dist-packages/nltk/corpus/util.py\u001b[0m in \u001b[0;36m__load\u001b[0;34m(self)\u001b[0m\n\u001b[1;32m     79\u001b[0m             \u001b[0;32mexcept\u001b[0m \u001b[0mLookupError\u001b[0m \u001b[0;32mas\u001b[0m \u001b[0me\u001b[0m\u001b[0;34m:\u001b[0m\u001b[0;34m\u001b[0m\u001b[0;34m\u001b[0m\u001b[0m\n\u001b[1;32m     80\u001b[0m                 \u001b[0;32mtry\u001b[0m\u001b[0;34m:\u001b[0m \u001b[0mroot\u001b[0m \u001b[0;34m=\u001b[0m \u001b[0mnltk\u001b[0m\u001b[0;34m.\u001b[0m\u001b[0mdata\u001b[0m\u001b[0;34m.\u001b[0m\u001b[0mfind\u001b[0m\u001b[0;34m(\u001b[0m\u001b[0;34m'{}/{}'\u001b[0m\u001b[0;34m.\u001b[0m\u001b[0mformat\u001b[0m\u001b[0;34m(\u001b[0m\u001b[0mself\u001b[0m\u001b[0;34m.\u001b[0m\u001b[0msubdir\u001b[0m\u001b[0;34m,\u001b[0m \u001b[0mzip_name\u001b[0m\u001b[0;34m)\u001b[0m\u001b[0;34m)\u001b[0m\u001b[0;34m\u001b[0m\u001b[0;34m\u001b[0m\u001b[0m\n\u001b[0;32m---> 81\u001b[0;31m                 \u001b[0;32mexcept\u001b[0m \u001b[0mLookupError\u001b[0m\u001b[0;34m:\u001b[0m \u001b[0;32mraise\u001b[0m \u001b[0me\u001b[0m\u001b[0;34m\u001b[0m\u001b[0;34m\u001b[0m\u001b[0m\n\u001b[0m\u001b[1;32m     82\u001b[0m \u001b[0;34m\u001b[0m\u001b[0m\n\u001b[1;32m     83\u001b[0m         \u001b[0;31m# Load the corpus.\u001b[0m\u001b[0;34m\u001b[0m\u001b[0;34m\u001b[0m\u001b[0;34m\u001b[0m\u001b[0m\n",
            "\u001b[0;32m/usr/local/lib/python3.7/dist-packages/nltk/corpus/util.py\u001b[0m in \u001b[0;36m__load\u001b[0;34m(self)\u001b[0m\n\u001b[1;32m     76\u001b[0m         \u001b[0;32melse\u001b[0m\u001b[0;34m:\u001b[0m\u001b[0;34m\u001b[0m\u001b[0;34m\u001b[0m\u001b[0m\n\u001b[1;32m     77\u001b[0m             \u001b[0;32mtry\u001b[0m\u001b[0;34m:\u001b[0m\u001b[0;34m\u001b[0m\u001b[0;34m\u001b[0m\u001b[0m\n\u001b[0;32m---> 78\u001b[0;31m                 \u001b[0mroot\u001b[0m \u001b[0;34m=\u001b[0m \u001b[0mnltk\u001b[0m\u001b[0;34m.\u001b[0m\u001b[0mdata\u001b[0m\u001b[0;34m.\u001b[0m\u001b[0mfind\u001b[0m\u001b[0;34m(\u001b[0m\u001b[0;34m'{}/{}'\u001b[0m\u001b[0;34m.\u001b[0m\u001b[0mformat\u001b[0m\u001b[0;34m(\u001b[0m\u001b[0mself\u001b[0m\u001b[0;34m.\u001b[0m\u001b[0msubdir\u001b[0m\u001b[0;34m,\u001b[0m \u001b[0mself\u001b[0m\u001b[0;34m.\u001b[0m\u001b[0m__name\u001b[0m\u001b[0;34m)\u001b[0m\u001b[0;34m)\u001b[0m\u001b[0;34m\u001b[0m\u001b[0;34m\u001b[0m\u001b[0m\n\u001b[0m\u001b[1;32m     79\u001b[0m             \u001b[0;32mexcept\u001b[0m \u001b[0mLookupError\u001b[0m \u001b[0;32mas\u001b[0m \u001b[0me\u001b[0m\u001b[0;34m:\u001b[0m\u001b[0;34m\u001b[0m\u001b[0;34m\u001b[0m\u001b[0m\n\u001b[1;32m     80\u001b[0m                 \u001b[0;32mtry\u001b[0m\u001b[0;34m:\u001b[0m \u001b[0mroot\u001b[0m \u001b[0;34m=\u001b[0m \u001b[0mnltk\u001b[0m\u001b[0;34m.\u001b[0m\u001b[0mdata\u001b[0m\u001b[0;34m.\u001b[0m\u001b[0mfind\u001b[0m\u001b[0;34m(\u001b[0m\u001b[0;34m'{}/{}'\u001b[0m\u001b[0;34m.\u001b[0m\u001b[0mformat\u001b[0m\u001b[0;34m(\u001b[0m\u001b[0mself\u001b[0m\u001b[0;34m.\u001b[0m\u001b[0msubdir\u001b[0m\u001b[0;34m,\u001b[0m \u001b[0mzip_name\u001b[0m\u001b[0;34m)\u001b[0m\u001b[0;34m)\u001b[0m\u001b[0;34m\u001b[0m\u001b[0;34m\u001b[0m\u001b[0m\n",
            "\u001b[0;32m/usr/local/lib/python3.7/dist-packages/nltk/data.py\u001b[0m in \u001b[0;36mfind\u001b[0;34m(resource_name, paths)\u001b[0m\n\u001b[1;32m    671\u001b[0m     \u001b[0msep\u001b[0m \u001b[0;34m=\u001b[0m \u001b[0;34m'*'\u001b[0m \u001b[0;34m*\u001b[0m \u001b[0;36m70\u001b[0m\u001b[0;34m\u001b[0m\u001b[0;34m\u001b[0m\u001b[0m\n\u001b[1;32m    672\u001b[0m     \u001b[0mresource_not_found\u001b[0m \u001b[0;34m=\u001b[0m \u001b[0;34m'\\n%s\\n%s\\n%s\\n'\u001b[0m \u001b[0;34m%\u001b[0m \u001b[0;34m(\u001b[0m\u001b[0msep\u001b[0m\u001b[0;34m,\u001b[0m \u001b[0mmsg\u001b[0m\u001b[0;34m,\u001b[0m \u001b[0msep\u001b[0m\u001b[0;34m)\u001b[0m\u001b[0;34m\u001b[0m\u001b[0;34m\u001b[0m\u001b[0m\n\u001b[0;32m--> 673\u001b[0;31m     \u001b[0;32mraise\u001b[0m \u001b[0mLookupError\u001b[0m\u001b[0;34m(\u001b[0m\u001b[0mresource_not_found\u001b[0m\u001b[0;34m)\u001b[0m\u001b[0;34m\u001b[0m\u001b[0;34m\u001b[0m\u001b[0m\n\u001b[0m\u001b[1;32m    674\u001b[0m \u001b[0;34m\u001b[0m\u001b[0m\n\u001b[1;32m    675\u001b[0m \u001b[0;34m\u001b[0m\u001b[0m\n",
            "\u001b[0;31mLookupError\u001b[0m: \n**********************************************************************\n  Resource \u001b[93mstopwords\u001b[0m not found.\n  Please use the NLTK Downloader to obtain the resource:\n\n  \u001b[31m>>> import nltk\n  >>> nltk.download('stopwords')\n  \u001b[0m\n  Searched in:\n    - '/root/nltk_data'\n    - '/usr/share/nltk_data'\n    - '/usr/local/share/nltk_data'\n    - '/usr/lib/nltk_data'\n    - '/usr/local/lib/nltk_data'\n    - '/usr/nltk_data'\n    - '/usr/lib/nltk_data'\n**********************************************************************\n"
          ]
        }
      ]
    },
    {
      "cell_type": "code",
      "metadata": {
        "id": "yfsES2_tcHiX",
        "outputId": "4cc697f8-5253-4d25-ae0d-3f131b0084ff"
      },
      "source": [
        "\n"
      ],
      "execution_count": null,
      "outputs": [
        {
          "output_type": "stream",
          "text": [
            "Reusing dataset amazon_polarity (/home/student/.cache/huggingface/datasets/amazon_polarity/amazon_polarity/3.0.0/35b3f5f426863b55dda2d5dc0da2d3714c7b0e5ba64bc4f1415ac9291ffdb234)\n"
          ],
          "name": "stderr"
        }
      ]
    },
    {
      "cell_type": "code",
      "metadata": {
        "colab": {
          "base_uri": "https://localhost:8080/"
        },
        "id": "EiAJfEyncmcw",
        "outputId": "137f6e47-20da-47d7-c677-9001c90997cc"
      },
      "source": [
        "from google.colab import drive\n",
        "drive.mount('/content/drive')"
      ],
      "execution_count": null,
      "outputs": [
        {
          "output_type": "stream",
          "text": [
            "Drive already mounted at /content/drive; to attempt to forcibly remount, call drive.mount(\"/content/drive\", force_remount=True).\n"
          ],
          "name": "stdout"
        }
      ]
    },
    {
      "cell_type": "code",
      "metadata": {
        "id": "hBZ2Kowgcx1R"
      },
      "source": [
        "RAW_interactions = pd.read_csv(\"/content/drive/MyDrive/archive/RAW_interactions.csv\")"
      ],
      "execution_count": null,
      "outputs": []
    },
    {
      "cell_type": "code",
      "metadata": {
        "colab": {
          "base_uri": "https://localhost:8080/"
        },
        "id": "GsGh-MTXcx5X",
        "outputId": "93ef6039-38de-4ce4-defb-6b43d4d95b9a"
      },
      "source": [
        "RAW_interactions[\"rating\"].value_counts()"
      ],
      "execution_count": null,
      "outputs": [
        {
          "output_type": "execute_result",
          "data": {
            "text/plain": [
              "5    816364\n",
              "4    187360\n",
              "0     60847\n",
              "3     40855\n",
              "2     14123\n",
              "1     12818\n",
              "Name: rating, dtype: int64"
            ]
          },
          "metadata": {
            "tags": []
          },
          "execution_count": 65
        }
      ]
    },
    {
      "cell_type": "code",
      "metadata": {
        "colab": {
          "base_uri": "https://localhost:8080/"
        },
        "id": "xIQ2GJsDf4T8",
        "outputId": "24487040-8062-4d61-dd0a-42b85126e078"
      },
      "source": [
        "RAW_interactions.isna().value_counts()"
      ],
      "execution_count": null,
      "outputs": [
        {
          "output_type": "execute_result",
          "data": {
            "text/plain": [
              "user_id  recipe_id  date   rating  review\n",
              "False    False      False  False   False     1132198\n",
              "                                   True          169\n",
              "dtype: int64"
            ]
          },
          "metadata": {
            "tags": []
          },
          "execution_count": 66
        }
      ]
    },
    {
      "cell_type": "code",
      "metadata": {
        "id": "9hcrWA8fgDT-"
      },
      "source": [
        "RAW_interactions = RAW_interactions.dropna()"
      ],
      "execution_count": null,
      "outputs": []
    },
    {
      "cell_type": "code",
      "metadata": {
        "colab": {
          "base_uri": "https://localhost:8080/"
        },
        "id": "a1FWuribgHlY",
        "outputId": "b6aac43c-55a8-4a91-aa21-bf2c586ed4b9"
      },
      "source": [
        "len(RAW_interactions)"
      ],
      "execution_count": null,
      "outputs": [
        {
          "output_type": "execute_result",
          "data": {
            "text/plain": [
              "1132198"
            ]
          },
          "metadata": {
            "tags": []
          },
          "execution_count": 68
        }
      ]
    },
    {
      "cell_type": "markdown",
      "metadata": {
        "id": "QYBmrg2PgGuJ"
      },
      "source": [
        ""
      ]
    },
    {
      "cell_type": "code",
      "metadata": {
        "colab": {
          "base_uri": "https://localhost:8080/"
        },
        "id": "yzalNI0XgEp5",
        "outputId": "0b011904-3cb3-4f8a-f0e7-6c44febd73cd"
      },
      "source": [
        "RAW_interactions[RAW_interactions[\"rating\"] !=0].value_counts()"
      ],
      "execution_count": null,
      "outputs": [
        {
          "output_type": "execute_result",
          "data": {
            "text/plain": [
              "user_id     recipe_id  date        rating  review                                                                                                                                                                                                                                                                                                                                                                                                                                                                                                                                                                                                                                                                                                           \n",
              "2002372706  63786      2018-12-20  5       Finally I found a no nonsense fajita recipe                                                                                                                                                                                                                                                                                                                                                                                                                                                                                                                                                                                                                                                                          1\n",
              "179567      218828     2008-06-25  5       Wow, great beans.  I added a little lemon, vinegar, and green peppers to counter the sweetness.  Cooked them in Crock Pot for 10 hours, wow, really good.                                                                                                                                                                                                                                                                                                                                                                                                                                                                                                                                                            1\n",
              "            164666     2011-11-24  5       Amazing, love the sauce, not too sweet, and I added a little more lemon to give it more tang... love this recipe... thanks!                                                                                                                                                                                                                                                                                                                                                                                                                                                                                                                                                                                          1\n",
              "            131639     2009-11-25  5       This is a wonderful soup, I call it a Miracle Soup, I have been fighting a sinus infection for 3 1/2 weeks, anti-biotics were not working... had 3 bowls of this soup yesterday and no more sinus symptoms, this soup is packed with nutrition.   I use 25 year old balsamic and more garlic and onions than called for and also dried basil and italian seasoning.  After roasting,  I pour the tomato mixture in a large sauce pan, add liquid, and blend with a stick blender, works perfectly.  My wife loved the soup too, she finished it off.   Making some more right now, it is addictive.  Sending link to entire family.\\r\\nOh, and your house will smell like an Italian restaurant, wonderful smell.    1\n",
              "            79308      2006-02-12  5       Wonderful!  My wife does not like chile too hot so I used 1 1/2 TBS of chile powder, perfect!                                                                                                                                                                                                                                                                                                                                                                                                                                                                                                                                                                                                                        1\n",
              "                                                                                                                                                                                                                                                                                                                                                                                                                                                                                                                                                                                                                                                                                                                                                               ..\n",
              "526804      119732     2007-07-12  5       Very hard to find something as delicious as this on a low carb diet.    Makes it easy to stay on diet.  My mother very picky eater even loved .                                                                                                                                                                                                                                                                                                                                                                                                                                                                                                                                                                      1\n",
              "            102843     2008-09-14  5       I was looking for a good recipe to make while we watch football.  Hands down could not get much better than this.  I used the onion salt in mine and was proud I did,  I do not like the strong taste of onions in my meat.  The subs were better than subway.  I warmed my sauce on low in the crock pot while the meatballs were cooking.  When the meatballs got done I placed them in the sauce on for one hour.  That worked out perfectly.  The only thing extra I did was placed 6 of them in a baking pan and baked them @ 350* for 4 or 5 minutes to melt the cheese.  Try this it is absolutely GREAT!  I had the hot dog buns and would not have changed anything.                                        1\n",
              "            5083       2007-08-28  5       Just like GRANNYS.  A+                                                                                                                                                                                                                                                                                                                                                                                                                                                                                                                                                                                                                                                                                               1\n",
              "526802      50069      2007-07-16  5       I turned this into cupcakes instead of a layer cake, and they were FANTASTIC.  Such a great recipe!  Making the caramel icing also provided a tremendous sense of accomplishment since I never, ever make candy.                                                                                                                                                                                                                                                                                                                                                                                                                                                                                                     1\n",
              "1533        2137       2005-02-27  5       OUTSTANDING was the only comments my guests made, Their mouths were busy devouring the pie.\\r\\nI used an egg wash and thats the only thing I added to the recipe. I was hoping for leftovers but there was none :-( Excellent recipe. Thanks so much.                                                                                                                                                                                                                                                                                                                                                                                                                                                                1\n",
              "Length: 1071351, dtype: int64"
            ]
          },
          "metadata": {
            "tags": []
          },
          "execution_count": 69
        }
      ]
    },
    {
      "cell_type": "code",
      "metadata": {
        "id": "BEUBtLcvgYm5"
      },
      "source": [
        "RAW_interactions = RAW_interactions[RAW_interactions[\"rating\"] !=0]"
      ],
      "execution_count": null,
      "outputs": []
    },
    {
      "cell_type": "code",
      "metadata": {
        "colab": {
          "base_uri": "https://localhost:8080/"
        },
        "id": "RbRGTenRgbrd",
        "outputId": "24653ac2-f80b-4711-a498-63982611d0df"
      },
      "source": [
        "RAW_interactions[\"rating\"].value_counts()"
      ],
      "execution_count": null,
      "outputs": [
        {
          "output_type": "execute_result",
          "data": {
            "text/plain": [
              "5    816229\n",
              "4    187333\n",
              "3     40852\n",
              "2     14122\n",
              "1     12815\n",
              "Name: rating, dtype: int64"
            ]
          },
          "metadata": {
            "tags": []
          },
          "execution_count": 71
        }
      ]
    },
    {
      "cell_type": "code",
      "metadata": {
        "id": "8h8le5z1goN7"
      },
      "source": [
        ""
      ],
      "execution_count": null,
      "outputs": []
    },
    {
      "cell_type": "code",
      "metadata": {
        "id": "x-56MTB_goUu"
      },
      "source": [
        ""
      ],
      "execution_count": null,
      "outputs": []
    },
    {
      "cell_type": "code",
      "metadata": {
        "id": "mCvql-0qgobN"
      },
      "source": [
        ""
      ],
      "execution_count": null,
      "outputs": []
    },
    {
      "cell_type": "code",
      "metadata": {
        "id": "2ii1l4Nxgog-"
      },
      "source": [
        ""
      ],
      "execution_count": null,
      "outputs": []
    },
    {
      "cell_type": "code",
      "metadata": {
        "id": "f2fR4ZzZgonZ"
      },
      "source": [
        ""
      ],
      "execution_count": null,
      "outputs": []
    },
    {
      "cell_type": "code",
      "metadata": {
        "id": "_p2zn5AZgot7"
      },
      "source": [
        ""
      ],
      "execution_count": null,
      "outputs": []
    },
    {
      "cell_type": "code",
      "metadata": {
        "id": "BtDS6jCVcHic"
      },
      "source": [
        "def preprocess_text(dataset):\n",
        "\n",
        "    def to_lower(text):\n",
        "        low_text= text.lower()\n",
        "        return low_text\n",
        "\n",
        "    def remove_numbers(text):\n",
        "        remove= re.sub(r'\\d+', '', text)\n",
        "        return remove\n",
        "\n",
        "    def remove_punktuation(text):\n",
        "        punct = re.sub(r\"[^\\w\\s\\d]\",\"\", text)\n",
        "        return punct\n",
        "\n",
        "\n",
        "    \n",
        "    dataset[\"review\"]=dataset[\"review\"].apply(lambda x:to_lower(x))\n",
        "    dataset[\"review\"]=dataset[\"review\"].apply(lambda x:remove_numbers(x))\n",
        "    dataset[\"review\"]=dataset[\"review\"].apply(lambda x:remove_punktuation(x))\n",
        " \n",
        "    return dataset[\"review\"]"
      ],
      "execution_count": null,
      "outputs": []
    },
    {
      "cell_type": "code",
      "metadata": {
        "id": "g1CK_naahC9m"
      },
      "source": [
        "RAW_interactions['review']=preprocess_text(RAW_interactions)"
      ],
      "execution_count": null,
      "outputs": []
    },
    {
      "cell_type": "code",
      "metadata": {
        "colab": {
          "base_uri": "https://localhost:8080/",
          "height": 419
        },
        "id": "8p8kUenpiLN5",
        "outputId": "4b8bd079-153d-4722-e340-dbc210b0f14a"
      },
      "source": [
        "RAW_interactions"
      ],
      "execution_count": null,
      "outputs": [
        {
          "output_type": "execute_result",
          "data": {
            "text/html": [
              "<div>\n",
              "<style scoped>\n",
              "    .dataframe tbody tr th:only-of-type {\n",
              "        vertical-align: middle;\n",
              "    }\n",
              "\n",
              "    .dataframe tbody tr th {\n",
              "        vertical-align: top;\n",
              "    }\n",
              "\n",
              "    .dataframe thead th {\n",
              "        text-align: right;\n",
              "    }\n",
              "</style>\n",
              "<table border=\"1\" class=\"dataframe\">\n",
              "  <thead>\n",
              "    <tr style=\"text-align: right;\">\n",
              "      <th></th>\n",
              "      <th>user_id</th>\n",
              "      <th>recipe_id</th>\n",
              "      <th>date</th>\n",
              "      <th>rating</th>\n",
              "      <th>review</th>\n",
              "    </tr>\n",
              "  </thead>\n",
              "  <tbody>\n",
              "    <tr>\n",
              "      <th>0</th>\n",
              "      <td>38094</td>\n",
              "      <td>40893</td>\n",
              "      <td>2003-02-17</td>\n",
              "      <td>4</td>\n",
              "      <td>great with a salad cooked on top of stove for ...</td>\n",
              "    </tr>\n",
              "    <tr>\n",
              "      <th>1</th>\n",
              "      <td>1293707</td>\n",
              "      <td>40893</td>\n",
              "      <td>2011-12-21</td>\n",
              "      <td>5</td>\n",
              "      <td>so simple so delicious great for chilly fall e...</td>\n",
              "    </tr>\n",
              "    <tr>\n",
              "      <th>2</th>\n",
              "      <td>8937</td>\n",
              "      <td>44394</td>\n",
              "      <td>2002-12-01</td>\n",
              "      <td>4</td>\n",
              "      <td>this worked very well and is easy  i used not ...</td>\n",
              "    </tr>\n",
              "    <tr>\n",
              "      <th>3</th>\n",
              "      <td>126440</td>\n",
              "      <td>85009</td>\n",
              "      <td>2010-02-27</td>\n",
              "      <td>5</td>\n",
              "      <td>i made the mexican topping and took it to bunk...</td>\n",
              "    </tr>\n",
              "    <tr>\n",
              "      <th>4</th>\n",
              "      <td>57222</td>\n",
              "      <td>85009</td>\n",
              "      <td>2011-10-01</td>\n",
              "      <td>5</td>\n",
              "      <td>made the cheddar bacon topping adding a sprink...</td>\n",
              "    </tr>\n",
              "    <tr>\n",
              "      <th>...</th>\n",
              "      <td>...</td>\n",
              "      <td>...</td>\n",
              "      <td>...</td>\n",
              "      <td>...</td>\n",
              "      <td>...</td>\n",
              "    </tr>\n",
              "    <tr>\n",
              "      <th>1132360</th>\n",
              "      <td>2002357020</td>\n",
              "      <td>82303</td>\n",
              "      <td>2018-12-05</td>\n",
              "      <td>5</td>\n",
              "      <td>delicious quick thick chocolate sauce with ing...</td>\n",
              "    </tr>\n",
              "    <tr>\n",
              "      <th>1132363</th>\n",
              "      <td>583662</td>\n",
              "      <td>386618</td>\n",
              "      <td>2009-09-29</td>\n",
              "      <td>5</td>\n",
              "      <td>these were so delicious  my husband and i trul...</td>\n",
              "    </tr>\n",
              "    <tr>\n",
              "      <th>1132364</th>\n",
              "      <td>157126</td>\n",
              "      <td>78003</td>\n",
              "      <td>2008-06-23</td>\n",
              "      <td>5</td>\n",
              "      <td>wow  sometimes i dont take the time to rate re...</td>\n",
              "    </tr>\n",
              "    <tr>\n",
              "      <th>1132365</th>\n",
              "      <td>53932</td>\n",
              "      <td>78003</td>\n",
              "      <td>2009-01-11</td>\n",
              "      <td>4</td>\n",
              "      <td>very good  i used regular port as well  the gr...</td>\n",
              "    </tr>\n",
              "    <tr>\n",
              "      <th>1132366</th>\n",
              "      <td>2001868099</td>\n",
              "      <td>78003</td>\n",
              "      <td>2017-12-18</td>\n",
              "      <td>5</td>\n",
              "      <td>i am so glad i googled and found this here thi...</td>\n",
              "    </tr>\n",
              "  </tbody>\n",
              "</table>\n",
              "<p>1071351 rows × 5 columns</p>\n",
              "</div>"
            ],
            "text/plain": [
              "            user_id  ...                                             review\n",
              "0             38094  ...  great with a salad cooked on top of stove for ...\n",
              "1           1293707  ...  so simple so delicious great for chilly fall e...\n",
              "2              8937  ...  this worked very well and is easy  i used not ...\n",
              "3            126440  ...  i made the mexican topping and took it to bunk...\n",
              "4             57222  ...  made the cheddar bacon topping adding a sprink...\n",
              "...             ...  ...                                                ...\n",
              "1132360  2002357020  ...  delicious quick thick chocolate sauce with ing...\n",
              "1132363      583662  ...  these were so delicious  my husband and i trul...\n",
              "1132364      157126  ...  wow  sometimes i dont take the time to rate re...\n",
              "1132365       53932  ...  very good  i used regular port as well  the gr...\n",
              "1132366  2001868099  ...  i am so glad i googled and found this here thi...\n",
              "\n",
              "[1071351 rows x 5 columns]"
            ]
          },
          "metadata": {
            "tags": []
          },
          "execution_count": 74
        }
      ]
    },
    {
      "cell_type": "code",
      "metadata": {
        "colab": {
          "base_uri": "https://localhost:8080/"
        },
        "id": "dNWLDfa6jWtP",
        "outputId": "4147dd79-46c4-4e24-cbbe-32649b0483fe"
      },
      "source": [
        "from sklearn.model_selection import train_test_split\n",
        "X_train, X_test, y_train, y_test = train_test_split(RAW_interactions[\"review\"][0:250000]\n",
        "                                                    , RAW_interactions[\"rating\"][0:250000],random_state = 42,\n",
        "                                                   test_size = 0.10)\n",
        "X_train.shape,X_test.shape,y_train.shape"
      ],
      "execution_count": null,
      "outputs": [
        {
          "output_type": "execute_result",
          "data": {
            "text/plain": [
              "((225000,), (25000,), (225000,))"
            ]
          },
          "metadata": {
            "tags": []
          },
          "execution_count": 75
        }
      ]
    },
    {
      "cell_type": "code",
      "metadata": {
        "id": "5kZCyGzYnDlY"
      },
      "source": [
        "from sklearn.feature_extraction.text import TfidfVectorizer\n",
        "\n",
        "vectorizer = TfidfVectorizer(stop_words=STOPWORDS)\n",
        "vectorizer = vectorizer.fit(RAW_interactions.review)"
      ],
      "execution_count": null,
      "outputs": []
    },
    {
      "cell_type": "code",
      "metadata": {
        "colab": {
          "base_uri": "https://localhost:8080/"
        },
        "id": "oiX1Da8xoq8Q",
        "outputId": "f965fd65-8c53-4faa-bffe-100159961988"
      },
      "source": [
        "vectorizer"
      ],
      "execution_count": null,
      "outputs": [
        {
          "output_type": "execute_result",
          "data": {
            "text/plain": [
              "TfidfVectorizer(analyzer='word', binary=False, decode_error='strict',\n",
              "                dtype=<class 'numpy.float64'>, encoding='utf-8',\n",
              "                input='content', lowercase=True, max_df=1.0, max_features=None,\n",
              "                min_df=1, ngram_range=(1, 1), norm='l2', preprocessor=None,\n",
              "                smooth_idf=True,\n",
              "                stop_words={'a', 'about', 'above', 'after', 'again', 'against',\n",
              "                            'ain', 'all', 'am', 'an', 'and', 'any', 'are',\n",
              "                            'aren', \"aren't\", 'as', 'at', 'be', 'because',\n",
              "                            'been', 'before', 'being', 'below', 'between',\n",
              "                            'both', 'but', 'by', 'can', 'couldn', \"couldn't\", ...},\n",
              "                strip_accents=None, sublinear_tf=False,\n",
              "                token_pattern='(?u)\\\\b\\\\w\\\\w+\\\\b', tokenizer=None, use_idf=True,\n",
              "                vocabulary=None)"
            ]
          },
          "metadata": {
            "tags": []
          },
          "execution_count": 77
        }
      ]
    },
    {
      "cell_type": "code",
      "metadata": {
        "id": "LZiq8i1KnDth"
      },
      "source": [
        "X_train_vectors = vectorizer.transform(X_train)\n",
        "X_test_vectors = vectorizer.transform(X_test)"
      ],
      "execution_count": null,
      "outputs": []
    },
    {
      "cell_type": "code",
      "metadata": {
        "colab": {
          "base_uri": "https://localhost:8080/"
        },
        "id": "oG8-Af8ypizC",
        "outputId": "cecd050f-dab6-4828-dff6-664161216a28"
      },
      "source": [
        ""
      ],
      "execution_count": null,
      "outputs": [
        {
          "output_type": "execute_result",
          "data": {
            "text/plain": [
              "<225000x272182 sparse matrix of type '<class 'numpy.float64'>'\n",
              "\twith 5467010 stored elements in Compressed Sparse Row format>"
            ]
          },
          "metadata": {
            "tags": []
          },
          "execution_count": 79
        }
      ]
    },
    {
      "cell_type": "code",
      "metadata": {
        "id": "qSiqnvhCnD1J"
      },
      "source": [
        "nb_tdfif = MultinomialNB().fit(X_train_vectors, y_train)"
      ],
      "execution_count": null,
      "outputs": []
    },
    {
      "cell_type": "code",
      "metadata": {
        "id": "6NrKQrU4nD88"
      },
      "source": [
        "from sklearn.metrics import classification_report"
      ],
      "execution_count": null,
      "outputs": []
    },
    {
      "cell_type": "code",
      "metadata": {
        "colab": {
          "base_uri": "https://localhost:8080/"
        },
        "id": "9SNiau4nnEEG",
        "outputId": "d6c65f82-a02e-4bcd-88ab-6b7bd7e8590d"
      },
      "source": [
        "nb_tdfif"
      ],
      "execution_count": null,
      "outputs": [
        {
          "output_type": "execute_result",
          "data": {
            "text/plain": [
              "MultinomialNB(alpha=1.0, class_prior=None, fit_prior=True)"
            ]
          },
          "metadata": {
            "tags": []
          },
          "execution_count": 82
        }
      ]
    },
    {
      "cell_type": "code",
      "metadata": {
        "id": "CZBDn21HnELU"
      },
      "source": [
        "predicts = nb_tdfif.predict(X_train_vectors)\n"
      ],
      "execution_count": null,
      "outputs": []
    },
    {
      "cell_type": "code",
      "metadata": {
        "colab": {
          "base_uri": "https://localhost:8080/"
        },
        "id": "5iKtYYDXnES2",
        "outputId": "b471531c-cceb-4fe6-ed94-8a1eaf37cbff"
      },
      "source": [
        "predicts"
      ],
      "execution_count": null,
      "outputs": [
        {
          "output_type": "execute_result",
          "data": {
            "text/plain": [
              "array([5, 5, 5, ..., 5, 5, 5])"
            ]
          },
          "metadata": {
            "tags": []
          },
          "execution_count": 84
        }
      ]
    },
    {
      "cell_type": "code",
      "metadata": {
        "colab": {
          "base_uri": "https://localhost:8080/"
        },
        "id": "BMElkG5nqTDO",
        "outputId": "81df4eda-6a48-43af-8d96-91de840a7705"
      },
      "source": [
        "print(classification_report(y_train, predicts))"
      ],
      "execution_count": null,
      "outputs": [
        {
          "output_type": "stream",
          "text": [
            "/usr/local/lib/python3.7/dist-packages/sklearn/metrics/_classification.py:1272: UndefinedMetricWarning: Precision and F-score are ill-defined and being set to 0.0 in labels with no predicted samples. Use `zero_division` parameter to control this behavior.\n",
            "  _warn_prf(average, modifier, msg_start, len(result))\n"
          ],
          "name": "stderr"
        },
        {
          "output_type": "stream",
          "text": [
            "              precision    recall  f1-score   support\n",
            "\n",
            "           1       0.00      0.00      0.00      2603\n",
            "           2       0.00      0.00      0.00      2965\n",
            "           3       0.00      0.00      0.00      8592\n",
            "           4       0.82      0.00      0.00     39477\n",
            "           5       0.76      1.00      0.86    171363\n",
            "\n",
            "    accuracy                           0.76    225000\n",
            "   macro avg       0.32      0.20      0.17    225000\n",
            "weighted avg       0.72      0.76      0.66    225000\n",
            "\n"
          ],
          "name": "stdout"
        }
      ]
    },
    {
      "cell_type": "code",
      "metadata": {
        "colab": {
          "base_uri": "https://localhost:8080/"
        },
        "id": "FFeTHM6PqTLv",
        "outputId": "343b3dd2-424d-4a1b-a6d1-3181ad796944"
      },
      "source": [
        "\n",
        "predicts =nb_tdfif.predict(X_test_vectors)\n",
        "print(classification_report(y_test, predicts))"
      ],
      "execution_count": null,
      "outputs": [
        {
          "output_type": "stream",
          "text": [
            "              precision    recall  f1-score   support\n",
            "\n",
            "           1       0.00      0.00      0.00       310\n",
            "           2       0.00      0.00      0.00       310\n",
            "           3       0.00      0.00      0.00       931\n",
            "           4       0.50      0.00      0.00      4380\n",
            "           5       0.76      1.00      0.87     19069\n",
            "\n",
            "    accuracy                           0.76     25000\n",
            "   macro avg       0.25      0.20      0.17     25000\n",
            "weighted avg       0.67      0.76      0.66     25000\n",
            "\n"
          ],
          "name": "stdout"
        },
        {
          "output_type": "stream",
          "text": [
            "/usr/local/lib/python3.7/dist-packages/sklearn/metrics/_classification.py:1272: UndefinedMetricWarning: Precision and F-score are ill-defined and being set to 0.0 in labels with no predicted samples. Use `zero_division` parameter to control this behavior.\n",
            "  _warn_prf(average, modifier, msg_start, len(result))\n"
          ],
          "name": "stderr"
        }
      ]
    },
    {
      "cell_type": "code",
      "metadata": {
        "colab": {
          "base_uri": "https://localhost:8080/",
          "height": 198
        },
        "id": "L6nnO6ITq53-",
        "outputId": "cd17e840-4c04-4356-f9c4-0095dd56a601"
      },
      "source": [
        "all_data=[RAW_interactions[\"review\"], RAW_interactions[\"rating\"]]\n",
        "X_vectors = vectorizer.transform(all_data[0])\n",
        "predicts_all_data =nb_tdfif.predict(X_vectors)\n"
      ],
      "execution_count": null,
      "outputs": [
        {
          "output_type": "error",
          "ename": "AttributeError",
          "evalue": "ignored",
          "traceback": [
            "\u001b[0;31m---------------------------------------------------------------------------\u001b[0m",
            "\u001b[0;31mAttributeError\u001b[0m                            Traceback (most recent call last)",
            "\u001b[0;32m<ipython-input-92-1b5f27c8b605>\u001b[0m in \u001b[0;36m<module>\u001b[0;34m()\u001b[0m\n\u001b[1;32m      2\u001b[0m \u001b[0mX_vectors\u001b[0m \u001b[0;34m=\u001b[0m \u001b[0mvectorizer\u001b[0m\u001b[0;34m.\u001b[0m\u001b[0mtransform\u001b[0m\u001b[0;34m(\u001b[0m\u001b[0mall_data\u001b[0m\u001b[0;34m[\u001b[0m\u001b[0;36m0\u001b[0m\u001b[0;34m]\u001b[0m\u001b[0;34m)\u001b[0m\u001b[0;34m\u001b[0m\u001b[0;34m\u001b[0m\u001b[0m\n\u001b[1;32m      3\u001b[0m \u001b[0mpredicts_all_data\u001b[0m \u001b[0;34m=\u001b[0m\u001b[0mnb_tdfif\u001b[0m\u001b[0;34m.\u001b[0m\u001b[0mpredict\u001b[0m\u001b[0;34m(\u001b[0m\u001b[0mX_vectors\u001b[0m\u001b[0;34m)\u001b[0m\u001b[0;34m\u001b[0m\u001b[0;34m\u001b[0m\u001b[0m\n\u001b[0;32m----> 4\u001b[0;31m \u001b[0mprint\u001b[0m\u001b[0;34m(\u001b[0m\u001b[0mclassification_report\u001b[0m\u001b[0;34m(\u001b[0m\u001b[0mall_data\u001b[0m\u001b[0;34m.\u001b[0m\u001b[0mRAW_interactions\u001b[0m\u001b[0;34m.\u001b[0m\u001b[0mrating\u001b[0m\u001b[0;34m,\u001b[0m \u001b[0mpredicts_all_data\u001b[0m\u001b[0;34m)\u001b[0m\u001b[0;34m)\u001b[0m\u001b[0;34m\u001b[0m\u001b[0;34m\u001b[0m\u001b[0m\n\u001b[0m",
            "\u001b[0;31mAttributeError\u001b[0m: 'list' object has no attribute 'RAW_interactions'"
          ]
        }
      ]
    },
    {
      "cell_type": "code",
      "metadata": {
        "colab": {
          "base_uri": "https://localhost:8080/"
        },
        "id": "HyLWOuNUq6A0",
        "outputId": "28ffbf40-5866-4d0d-b031-f64315c0098d"
      },
      "source": [
        "print(classification_report(all_data[1], predicts_all_data))"
      ],
      "execution_count": null,
      "outputs": [
        {
          "output_type": "stream",
          "text": [
            "/usr/local/lib/python3.7/dist-packages/sklearn/metrics/_classification.py:1272: UndefinedMetricWarning: Precision and F-score are ill-defined and being set to 0.0 in labels with no predicted samples. Use `zero_division` parameter to control this behavior.\n",
            "  _warn_prf(average, modifier, msg_start, len(result))\n"
          ],
          "name": "stderr"
        },
        {
          "output_type": "stream",
          "text": [
            "              precision    recall  f1-score   support\n",
            "\n",
            "           1       0.00      0.00      0.00     12815\n",
            "           2       0.00      0.00      0.00     14122\n",
            "           3       0.00      0.00      0.00     40852\n",
            "           4       0.37      0.00      0.00    187333\n",
            "           5       0.76      1.00      0.86    816229\n",
            "\n",
            "    accuracy                           0.76   1071351\n",
            "   macro avg       0.23      0.20      0.17   1071351\n",
            "weighted avg       0.65      0.76      0.66   1071351\n",
            "\n"
          ],
          "name": "stdout"
        }
      ]
    },
    {
      "cell_type": "code",
      "metadata": {
        "id": "9MYSPpiiq6K5"
      },
      "source": [
        ""
      ],
      "execution_count": null,
      "outputs": []
    },
    {
      "cell_type": "code",
      "metadata": {
        "id": "AcZhupuCq6T0"
      },
      "source": [
        ""
      ],
      "execution_count": null,
      "outputs": []
    },
    {
      "cell_type": "code",
      "metadata": {
        "id": "Xs_SZXadq6dY"
      },
      "source": [
        ""
      ],
      "execution_count": null,
      "outputs": []
    },
    {
      "cell_type": "code",
      "metadata": {
        "id": "S-cMByhHq6l5"
      },
      "source": [
        ""
      ],
      "execution_count": null,
      "outputs": []
    },
    {
      "cell_type": "code",
      "metadata": {
        "id": "ywKNX1I6qTTd"
      },
      "source": [
        ""
      ],
      "execution_count": null,
      "outputs": []
    },
    {
      "cell_type": "code",
      "metadata": {
        "id": "w0QSxhT5hU4M"
      },
      "source": [
        "from sklearn.naive_bayes import MultinomialNB\n",
        "bayes_pipe = Pipeline([\n",
        " (\"tfidf\", TfidfVectorizer()),\n",
        " (\"nb\", MultinomialNB())\n",
        "])\n"
      ],
      "execution_count": null,
      "outputs": []
    },
    {
      "cell_type": "code",
      "metadata": {
        "colab": {
          "base_uri": "https://localhost:8080/"
        },
        "id": "DyDKkgJljW1N",
        "outputId": "c375dcbe-7bc1-4ae0-bf2a-b2aead5919bd"
      },
      "source": [
        "X_train.shape,X_test.shape,y_train.shape"
      ],
      "execution_count": null,
      "outputs": [
        {
          "output_type": "execute_result",
          "data": {
            "text/plain": [
              "((225000,), (25000,), (225000,))"
            ]
          },
          "metadata": {
            "tags": []
          },
          "execution_count": 31
        }
      ]
    },
    {
      "cell_type": "code",
      "metadata": {
        "colab": {
          "base_uri": "https://localhost:8080/"
        },
        "id": "szGhnb2JjW9L",
        "outputId": "edda323b-b401-42ce-c6f8-6d66fc96b246"
      },
      "source": [
        "y_test"
      ],
      "execution_count": null,
      "outputs": [
        {
          "output_type": "execute_result",
          "data": {
            "text/plain": [
              "40762     4\n",
              "68490     5\n",
              "4137      5\n",
              "127014    4\n",
              "182600    4\n",
              "         ..\n",
              "84512     5\n",
              "253474    5\n",
              "106356    5\n",
              "146014    4\n",
              "214355    5\n",
              "Name: rating, Length: 25000, dtype: int64"
            ]
          },
          "metadata": {
            "tags": []
          },
          "execution_count": 32
        }
      ]
    },
    {
      "cell_type": "code",
      "metadata": {
        "id": "1-x43pXDkGAl"
      },
      "source": [
        ""
      ],
      "execution_count": null,
      "outputs": []
    },
    {
      "cell_type": "code",
      "metadata": {
        "id": "6Mf8wsG4hU-w"
      },
      "source": [
        "bayes_pipe.fit(X_train, y_train)\n",
        "\n",
        "bayes_params = {\n",
        "    \"tfidf__max_features\":(1000,5000),\n",
        "    \"tfidf__ngram_range\":((2,2), (3,3)),\n",
        "}\n",
        "\n",
        "gs_bayes = GridSearchCV(bayes_pipe, param_grid=bayes_params, cv = 3, verbose =1, n_jobs = 4)"
      ],
      "execution_count": null,
      "outputs": []
    },
    {
      "cell_type": "code",
      "metadata": {
        "colab": {
          "base_uri": "https://localhost:8080/"
        },
        "id": "f7ZMw1C2hVF5",
        "outputId": "664e5665-6298-4aa3-8856-7353d69bde91"
      },
      "source": [
        "gs_bayes"
      ],
      "execution_count": null,
      "outputs": [
        {
          "output_type": "execute_result",
          "data": {
            "text/plain": [
              "GridSearchCV(cv=3, error_score=nan,\n",
              "             estimator=Pipeline(memory=None,\n",
              "                                steps=[('tfidf',\n",
              "                                        TfidfVectorizer(analyzer='word',\n",
              "                                                        binary=False,\n",
              "                                                        decode_error='strict',\n",
              "                                                        dtype=<class 'numpy.float64'>,\n",
              "                                                        encoding='utf-8',\n",
              "                                                        input='content',\n",
              "                                                        lowercase=True,\n",
              "                                                        max_df=1.0,\n",
              "                                                        max_features=None,\n",
              "                                                        min_df=1,\n",
              "                                                        ngram_range=(1, 1),\n",
              "                                                        norm='l2',\n",
              "                                                        preprocessor=None,\n",
              "                                                        smooth_idf=True,\n",
              "                                                        stop_words=None,\n",
              "                                                        strip_acc...\n",
              "                                                        token_pattern='(?u)\\\\b\\\\w\\\\w+\\\\b',\n",
              "                                                        tokenizer=None,\n",
              "                                                        use_idf=True,\n",
              "                                                        vocabulary=None)),\n",
              "                                       ('nb',\n",
              "                                        MultinomialNB(alpha=1.0,\n",
              "                                                      class_prior=None,\n",
              "                                                      fit_prior=True))],\n",
              "                                verbose=False),\n",
              "             iid='deprecated', n_jobs=4,\n",
              "             param_grid={'tfidf__max_features': (1000, 5000),\n",
              "                         'tfidf__ngram_range': ((2, 2), (3, 3))},\n",
              "             pre_dispatch='2*n_jobs', refit=True, return_train_score=False,\n",
              "             scoring=None, verbose=1)"
            ]
          },
          "metadata": {
            "tags": []
          },
          "execution_count": 34
        }
      ]
    },
    {
      "cell_type": "code",
      "metadata": {
        "id": "eZitwrI_hVMS"
      },
      "source": [
        ""
      ],
      "execution_count": null,
      "outputs": []
    },
    {
      "cell_type": "code",
      "metadata": {
        "id": "q5X0qMX9hVSW"
      },
      "source": [
        ""
      ],
      "execution_count": null,
      "outputs": []
    },
    {
      "cell_type": "code",
      "metadata": {
        "id": "FBn8GzOCcHic"
      },
      "source": [
        "\n",
        "train_df=pd.json_normalize(train_data)\n",
        "\n",
        "test_df=pd.json_normalize(test_data)"
      ],
      "execution_count": null,
      "outputs": []
    },
    {
      "cell_type": "code",
      "metadata": {
        "id": "UfcylnxYcHid"
      },
      "source": [
        "\n",
        "x_train, y_train = preprocess_text(train_df)\n",
        "x_test, y_test = preprocess_text(test_df)"
      ],
      "execution_count": null,
      "outputs": []
    },
    {
      "cell_type": "code",
      "metadata": {
        "id": "pnEoxFD2cHid"
      },
      "source": [
        "from sklearn.naive_bayes import MultinomialNB"
      ],
      "execution_count": null,
      "outputs": []
    },
    {
      "cell_type": "code",
      "metadata": {
        "id": "XcDpFbKicHid"
      },
      "source": [
        "bayes_pipe = Pipeline([\n",
        " (\"tfidf\", TfidfVectorizer()),\n",
        " (\"nb\", MultinomialNB())\n",
        "])\n",
        "\n"
      ],
      "execution_count": null,
      "outputs": []
    },
    {
      "cell_type": "code",
      "metadata": {
        "id": "VgflOq7DcHie"
      },
      "source": [
        "bayes_pipe.fit(x_train, y_train)\n",
        "\n",
        "bayes_params = {\n",
        "    \"tfidf__max_features\":(1000,5000),\n",
        "    \"tfidf__ngram_range\":((2,2), (3,3)),\n",
        "}\n",
        "\n",
        "gs_bayes = GridSearchCV(bayes_pipe, param_grid=bayes_params, cv = 3, verbose =1, n_jobs = -1)"
      ],
      "execution_count": null,
      "outputs": []
    },
    {
      "cell_type": "code",
      "metadata": {
        "id": "J-xFrL1acHie"
      },
      "source": [
        "frames = [train_df,test_df]\n",
        "dataset = pd.concat(frames)"
      ],
      "execution_count": null,
      "outputs": []
    },
    {
      "cell_type": "code",
      "metadata": {
        "id": "yW0fHMnkcHie"
      },
      "source": [
        "from sklearn.feature_extraction.text import TfidfVectorizer\n",
        "\n",
        "vectorizer = TfidfVectorizer(stop_words=STOPWORDS)\n",
        "vectorizer = vectorizer.fit(dataset.content)"
      ],
      "execution_count": null,
      "outputs": []
    },
    {
      "cell_type": "code",
      "metadata": {
        "id": "yz42ZWa0cHif"
      },
      "source": [
        "X_train_vectors = vectorizer.transform(train_df.content)\n",
        "X_test_vectors = vectorizer.transform(test_df.content)"
      ],
      "execution_count": null,
      "outputs": []
    },
    {
      "cell_type": "code",
      "metadata": {
        "id": "0EUOpXutcHif"
      },
      "source": [
        "nb_tdfif = MultinomialNB().fit(X_train_vectors, train_df.label)"
      ],
      "execution_count": null,
      "outputs": []
    },
    {
      "cell_type": "code",
      "metadata": {
        "id": "QTcbYK-8cHif",
        "outputId": "a283caec-e093-4a38-d74e-d172c933b2a5"
      },
      "source": [
        "nb_tdfif"
      ],
      "execution_count": null,
      "outputs": [
        {
          "output_type": "execute_result",
          "data": {
            "text/plain": [
              "MultinomialNB()"
            ]
          },
          "metadata": {
            "tags": []
          },
          "execution_count": 55
        }
      ]
    },
    {
      "cell_type": "code",
      "metadata": {
        "id": "FzTTi2skcHig"
      },
      "source": [
        "from sklearn.metrics import classification_report"
      ],
      "execution_count": null,
      "outputs": []
    },
    {
      "cell_type": "code",
      "metadata": {
        "id": "4FIICd61cHih",
        "outputId": "1e083bc0-b3ab-4b89-fae3-e4ff17cf1cd3"
      },
      "source": [
        "predicts = nb_tdfif.predict(X_train_vectors)\n",
        "print(classification_report(train_df.label, predicts))"
      ],
      "execution_count": null,
      "outputs": [
        {
          "output_type": "stream",
          "text": [
            "              precision    recall  f1-score   support\n",
            "\n",
            "           0       0.84      0.86      0.85   1800000\n",
            "           1       0.86      0.83      0.84   1800000\n",
            "\n",
            "    accuracy                           0.85   3600000\n",
            "   macro avg       0.85      0.85      0.85   3600000\n",
            "weighted avg       0.85      0.85      0.85   3600000\n",
            "\n"
          ],
          "name": "stdout"
        }
      ]
    },
    {
      "cell_type": "code",
      "metadata": {
        "id": "IsnNTzWScHih",
        "outputId": "91c9b1e0-6ffc-485c-b7ec-929fd61e1b18"
      },
      "source": [
        "X_test_vectors = vectorizer.transform(test_df.content)\n",
        "predicts =nb_tdfif.predict(X_test_vectors)\n",
        "print(classification_report(test_df.label, predicts))"
      ],
      "execution_count": null,
      "outputs": [
        {
          "output_type": "stream",
          "text": [
            "              precision    recall  f1-score   support\n",
            "\n",
            "           0       0.82      0.84      0.83    200000\n",
            "           1       0.84      0.81      0.82    200000\n",
            "\n",
            "    accuracy                           0.82    400000\n",
            "   macro avg       0.83      0.82      0.82    400000\n",
            "weighted avg       0.83      0.82      0.82    400000\n",
            "\n"
          ],
          "name": "stdout"
        }
      ]
    },
    {
      "cell_type": "code",
      "metadata": {
        "id": "b39zkLPKcHih"
      },
      "source": [
        "import pandas as pd\n",
        "import numpy as np\n",
        "import seaborn as sns\n",
        "import matplotlib.pyplot as plt\n",
        "import os\n",
        "import re"
      ],
      "execution_count": null,
      "outputs": []
    },
    {
      "cell_type": "code",
      "metadata": {
        "id": "lIw70JetcHii"
      },
      "source": [
        ""
      ],
      "execution_count": null,
      "outputs": []
    }
  ]
}